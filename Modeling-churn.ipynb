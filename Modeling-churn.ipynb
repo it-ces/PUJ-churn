{
  "cells": [
    {
      "cell_type": "markdown",
      "metadata": {
        "id": "view-in-github",
        "colab_type": "text"
      },
      "source": [
        "<a href=\"https://colab.research.google.com/github/it-ces/PUJ-churn/blob/main/Modeling-churn.ipynb\" target=\"_parent\"><img src=\"https://colab.research.google.com/assets/colab-badge.svg\" alt=\"Open In Colab\"/></a>"
      ]
    },
    {
      "cell_type": "code",
      "source": [
        "!git clone https://github.com/it-ces/PUJ-churn.git"
      ],
      "metadata": {
        "id": "ULDEV_AzQgxE",
        "outputId": "1706dfa2-8457-4c82-a538-d0274e4dd76f",
        "colab": {
          "base_uri": "https://localhost:8080/"
        }
      },
      "execution_count": 30,
      "outputs": [
        {
          "output_type": "stream",
          "name": "stdout",
          "text": [
            "Cloning into 'PUJ-churn'...\n",
            "remote: Enumerating objects: 46, done.\u001b[K\n",
            "remote: Counting objects: 100% (46/46), done.\u001b[K\n",
            "remote: Compressing objects: 100% (41/41), done.\u001b[K\n",
            "remote: Total 46 (delta 9), reused 37 (delta 4), pack-reused 0\u001b[K\n",
            "Receiving objects: 100% (46/46), 9.72 MiB | 14.74 MiB/s, done.\n",
            "Resolving deltas: 100% (9/9), done.\n"
          ]
        }
      ]
    },
    {
      "cell_type": "code",
      "source": [
        "cd PUJ-churn"
      ],
      "metadata": {
        "id": "GSqk0NBwQxRE",
        "outputId": "e20799aa-e062-4c3e-ee17-b430e001db32",
        "colab": {
          "base_uri": "https://localhost:8080/"
        }
      },
      "execution_count": 31,
      "outputs": [
        {
          "output_type": "stream",
          "name": "stdout",
          "text": [
            "/content/PUJ-churn/PUJ-churn\n"
          ]
        }
      ]
    },
    {
      "cell_type": "code",
      "source": [
        "!pip install deap"
      ],
      "metadata": {
        "id": "DURF3CMlQ32v",
        "outputId": "93ed3246-7a95-4bad-a0f0-c1d15fac7054",
        "colab": {
          "base_uri": "https://localhost:8080/"
        }
      },
      "execution_count": 32,
      "outputs": [
        {
          "output_type": "stream",
          "name": "stdout",
          "text": [
            "Requirement already satisfied: deap in /usr/local/lib/python3.10/dist-packages (1.4.1)\n",
            "Requirement already satisfied: numpy in /usr/local/lib/python3.10/dist-packages (from deap) (1.25.2)\n"
          ]
        }
      ]
    },
    {
      "cell_type": "code",
      "execution_count": 33,
      "metadata": {
        "id": "H3YZ7X8BQeRv"
      },
      "outputs": [],
      "source": [
        "import pandas as pd\n",
        "import numpy as np\n",
        "import matplotlib.pyplot as plt\n",
        "from sklearn.model_selection import train_test_split\n",
        "from sklearn.metrics import recall_score\n",
        "import seaborn as sns\n",
        "import warnings as wrn\n",
        "wrn.filterwarnings('ignore')\n",
        "from preprocess import breakdown_vars\n",
        "from preprocess import dummies_ohe\n",
        "from preprocess import std_z\n",
        "from preprocess import Xy\n",
        "from GeneticNeuralNetwork import gaMLP_ragnarok\n",
        "from NeuralNetwork import MLPclassifer\n",
        "from ineq import Theil\n",
        "from gentools import select_optimun_parameters\n",
        "from GeneticNeuralNetwork import gaMLP_score\n",
        "from NeuralNetwork import MLP"
      ]
    },
    {
      "cell_type": "code",
      "execution_count": 34,
      "metadata": {
        "id": "zLDOv5AgQeRw"
      },
      "outputs": [],
      "source": [
        "df = pd.read_excel(\"bank_churn.xlsx\")"
      ]
    },
    {
      "cell_type": "code",
      "execution_count": 35,
      "metadata": {
        "id": "jYvEyc2hQeRx"
      },
      "outputs": [],
      "source": [
        "df.to_csv(\"Churn-data.csv\")"
      ]
    },
    {
      "cell_type": "code",
      "execution_count": 36,
      "metadata": {
        "id": "D8xfyH3vQeRx",
        "outputId": "cb26f183-9e96-4e7e-a9b9-280670584267",
        "colab": {
          "base_uri": "https://localhost:8080/"
        }
      },
      "outputs": [
        {
          "output_type": "execute_result",
          "data": {
            "text/plain": [
              "churn\n",
              "0    0.83934\n",
              "1    0.16066\n",
              "Name: proportion, dtype: float64"
            ]
          },
          "metadata": {},
          "execution_count": 36
        }
      ],
      "source": [
        "df['churn'] = df['attrition_flag'].replace(['Existing Customer', 'Attrited Customer'], [0, 1])\n",
        "df.drop(columns=['clientnum','avg_open_to_buy','attrition_flag','credit_limit'], inplace=True)\n",
        "df['churn'].value_counts(normalize=True) # Unbalance data...."
      ]
    },
    {
      "cell_type": "code",
      "execution_count": 37,
      "metadata": {
        "id": "wVePainxQeRx"
      },
      "outputs": [],
      "source": [
        "cats, binaries, nonormal, normal  = breakdown_vars(df)"
      ]
    },
    {
      "cell_type": "code",
      "execution_count": 38,
      "metadata": {
        "id": "hHxIDtn_QeRy"
      },
      "outputs": [],
      "source": [
        "df =  dummies_ohe(df, cats)"
      ]
    },
    {
      "cell_type": "code",
      "execution_count": 39,
      "metadata": {
        "id": "ZCHgMyt8QeRy"
      },
      "outputs": [],
      "source": [
        "X,y = Xy(df,'churn')"
      ]
    },
    {
      "cell_type": "code",
      "execution_count": 40,
      "metadata": {
        "id": "QW-e8hQKQeRy",
        "outputId": "d14427f8-cf3e-4ff6-dcad-879a9d8740fb",
        "colab": {
          "base_uri": "https://localhost:8080/"
        }
      },
      "outputs": [
        {
          "output_type": "execute_result",
          "data": {
            "text/plain": [
              "churn\n",
              "0    0.83934\n",
              "1    0.16066\n",
              "Name: proportion, dtype: float64"
            ]
          },
          "metadata": {},
          "execution_count": 40
        }
      ],
      "source": [
        "y.value_counts(normalize=True)"
      ]
    },
    {
      "cell_type": "code",
      "execution_count": 41,
      "metadata": {
        "id": "mMG2bgP4QeRy"
      },
      "outputs": [],
      "source": [
        "X_train, X_test, y_train, y_test = train_test_split(X, y, test_size=0.3, shuffle = True, random_state = 4406, stratify=y)"
      ]
    },
    {
      "cell_type": "code",
      "execution_count": 42,
      "metadata": {
        "id": "7QNN_Vo4QeRy"
      },
      "outputs": [],
      "source": [
        "from imblearn.under_sampling import RandomUnderSampler\n",
        "rus = RandomUnderSampler(random_state=1234)\n",
        "X_train, y_train = rus.fit_resample(X_train, y_train)"
      ]
    },
    {
      "cell_type": "code",
      "execution_count": 43,
      "metadata": {
        "id": "7wo-q-lHQeRy",
        "outputId": "edf3ac3c-7c2c-42ec-f6ca-4071f7d09c3d",
        "colab": {
          "base_uri": "https://localhost:8080/"
        }
      },
      "outputs": [
        {
          "output_type": "execute_result",
          "data": {
            "text/plain": [
              "churn\n",
              "0    1139\n",
              "1    1139\n",
              "Name: count, dtype: int64"
            ]
          },
          "metadata": {},
          "execution_count": 43
        }
      ],
      "source": [
        "y_train.value_counts()"
      ]
    },
    {
      "cell_type": "code",
      "execution_count": 44,
      "metadata": {
        "id": "ZrR1aWIhQeRy",
        "outputId": "b02ca796-ea15-4781-8376-d9e43a436135",
        "colab": {
          "base_uri": "https://localhost:8080/"
        }
      },
      "outputs": [
        {
          "output_type": "stream",
          "name": "stdout",
          "text": [
            "customer_age\n",
            "dependent_count\n",
            "months_on_book\n",
            "total_relationship_count\n",
            "months_inactive_12_mon\n",
            "contacts_count_12_mon\n",
            "total_revolving_bal\n",
            "total_amt_chng_q4_q1\n",
            "total_trans_amt\n",
            "total_trans_ct\n",
            "total_ct_chng_q4_q1\n",
            "avg_utilization_ratio\n"
          ]
        }
      ],
      "source": [
        "from preprocess import standardize_X_test\n",
        "\n",
        "X_test = standardize_X_test(X_train, X_test) # Apply the mean and std of X_test\n",
        "X_train = std_z(nonormal + normal, X_train)"
      ]
    },
    {
      "cell_type": "code",
      "execution_count": 45,
      "metadata": {
        "id": "7ua6HbbFQeRz",
        "outputId": "0b12763b-60e7-4ecc-dcf1-b9ecea701fd4",
        "colab": {
          "base_uri": "https://localhost:8080/",
          "height": 461
        }
      },
      "outputs": [
        {
          "output_type": "execute_result",
          "data": {
            "text/plain": [
              "      customer_age  dependent_count  months_on_book  total_relationship_count  \\\n",
              "0        -1.196062        -0.297743        0.001618                  0.861565   \n",
              "1         2.117951        -1.842749        1.653669                  0.861565   \n",
              "2         0.206021         1.247264        0.255780                 -0.412880   \n",
              "3        -1.450986        -1.842749        0.001618                  0.861565   \n",
              "4        -0.941138        -0.297743       -1.777515                  0.861565   \n",
              "...            ...              ...             ...                       ...   \n",
              "2273      1.353179        -0.297743        0.637022                 -0.412880   \n",
              "2274      0.333483        -0.297743        0.255780                 -0.412880   \n",
              "2275      0.078559         0.474761        0.382860                 -1.050103   \n",
              "2276      0.333483        -0.297743        0.891184                 -1.050103   \n",
              "2277     -1.833372        -1.842749       -1.396272                  1.498788   \n",
              "\n",
              "      months_inactive_12_mon  contacts_count_12_mon  total_revolving_bal  \\\n",
              "0                  -0.500782              -1.446373             0.427114   \n",
              "1                   1.545461               0.290037            -0.276298   \n",
              "2                  -0.500782              -0.578168             0.573190   \n",
              "3                  -0.500782              -1.446373             0.604653   \n",
              "4                  -0.500782              -0.578168            -1.092076   \n",
              "...                      ...                    ...                  ...   \n",
              "2273                0.522340               0.290037            -1.092076   \n",
              "2274                1.545461               0.290037            -1.092076   \n",
              "2275                0.522340              -0.578168            -1.092076   \n",
              "2276                0.522340               0.290037             1.064230   \n",
              "2277               -0.500782              -0.578168             1.527179   \n",
              "\n",
              "      total_amt_chng_q4_q1  total_trans_amt  total_trans_ct  ...  \\\n",
              "0                -1.024812        -0.007007        0.683745  ...   \n",
              "1                 0.522915         0.039261        0.372932  ...   \n",
              "2                 0.935945        -0.599037       -0.870318  ...   \n",
              "3                 0.681773        -0.582420       -0.381898  ...   \n",
              "4                 0.000954         0.109966        1.571781  ...   \n",
              "...                    ...              ...             ...  ...   \n",
              "2273             -0.026278        -0.542669       -0.959122  ...   \n",
              "2274             -1.147360        -0.739469       -0.959122  ...   \n",
              "2275              0.236971        -0.345217       -0.204291  ...   \n",
              "2276             -1.065661        -0.113878       -0.293095  ...   \n",
              "2277              1.230967         1.450750        0.461736  ...   \n",
              "\n",
              "      marital_status_Single  marital_status_Unknown  \\\n",
              "0                       1.0                     0.0   \n",
              "1                       1.0                     0.0   \n",
              "2                       0.0                     1.0   \n",
              "3                       0.0                     0.0   \n",
              "4                       1.0                     0.0   \n",
              "...                     ...                     ...   \n",
              "2273                    0.0                     0.0   \n",
              "2274                    0.0                     1.0   \n",
              "2275                    0.0                     0.0   \n",
              "2276                    1.0                     0.0   \n",
              "2277                    0.0                     0.0   \n",
              "\n",
              "      income_category_$40K - $60K  income_category_$60K - $80K  \\\n",
              "0                             0.0                          0.0   \n",
              "1                             1.0                          0.0   \n",
              "2                             0.0                          1.0   \n",
              "3                             0.0                          0.0   \n",
              "4                             0.0                          0.0   \n",
              "...                           ...                          ...   \n",
              "2273                          0.0                          0.0   \n",
              "2274                          0.0                          0.0   \n",
              "2275                          0.0                          1.0   \n",
              "2276                          0.0                          0.0   \n",
              "2277                          0.0                          1.0   \n",
              "\n",
              "      income_category_$80K - $120K  income_category_Less than $40K  \\\n",
              "0                              0.0                             1.0   \n",
              "1                              0.0                             0.0   \n",
              "2                              0.0                             0.0   \n",
              "3                              0.0                             0.0   \n",
              "4                              0.0                             0.0   \n",
              "...                            ...                             ...   \n",
              "2273                           0.0                             1.0   \n",
              "2274                           1.0                             0.0   \n",
              "2275                           0.0                             0.0   \n",
              "2276                           1.0                             0.0   \n",
              "2277                           0.0                             0.0   \n",
              "\n",
              "      income_category_Unknown  card_category_Gold  card_category_Platinum  \\\n",
              "0                         0.0                 0.0                     0.0   \n",
              "1                         0.0                 0.0                     0.0   \n",
              "2                         0.0                 0.0                     0.0   \n",
              "3                         0.0                 0.0                     0.0   \n",
              "4                         0.0                 0.0                     0.0   \n",
              "...                       ...                 ...                     ...   \n",
              "2273                      0.0                 0.0                     0.0   \n",
              "2274                      0.0                 0.0                     0.0   \n",
              "2275                      0.0                 0.0                     0.0   \n",
              "2276                      0.0                 0.0                     0.0   \n",
              "2277                      0.0                 0.0                     0.0   \n",
              "\n",
              "      card_category_Silver  \n",
              "0                      0.0  \n",
              "1                      0.0  \n",
              "2                      1.0  \n",
              "3                      0.0  \n",
              "4                      0.0  \n",
              "...                    ...  \n",
              "2273                   0.0  \n",
              "2274                   0.0  \n",
              "2275                   0.0  \n",
              "2276                   0.0  \n",
              "2277                   0.0  \n",
              "\n",
              "[2278 rows x 30 columns]"
            ],
            "text/html": [
              "\n",
              "  <div id=\"df-a08176f6-5d07-465c-93f1-e0f0fa42bc84\" class=\"colab-df-container\">\n",
              "    <div>\n",
              "<style scoped>\n",
              "    .dataframe tbody tr th:only-of-type {\n",
              "        vertical-align: middle;\n",
              "    }\n",
              "\n",
              "    .dataframe tbody tr th {\n",
              "        vertical-align: top;\n",
              "    }\n",
              "\n",
              "    .dataframe thead th {\n",
              "        text-align: right;\n",
              "    }\n",
              "</style>\n",
              "<table border=\"1\" class=\"dataframe\">\n",
              "  <thead>\n",
              "    <tr style=\"text-align: right;\">\n",
              "      <th></th>\n",
              "      <th>customer_age</th>\n",
              "      <th>dependent_count</th>\n",
              "      <th>months_on_book</th>\n",
              "      <th>total_relationship_count</th>\n",
              "      <th>months_inactive_12_mon</th>\n",
              "      <th>contacts_count_12_mon</th>\n",
              "      <th>total_revolving_bal</th>\n",
              "      <th>total_amt_chng_q4_q1</th>\n",
              "      <th>total_trans_amt</th>\n",
              "      <th>total_trans_ct</th>\n",
              "      <th>...</th>\n",
              "      <th>marital_status_Single</th>\n",
              "      <th>marital_status_Unknown</th>\n",
              "      <th>income_category_$40K - $60K</th>\n",
              "      <th>income_category_$60K - $80K</th>\n",
              "      <th>income_category_$80K - $120K</th>\n",
              "      <th>income_category_Less than $40K</th>\n",
              "      <th>income_category_Unknown</th>\n",
              "      <th>card_category_Gold</th>\n",
              "      <th>card_category_Platinum</th>\n",
              "      <th>card_category_Silver</th>\n",
              "    </tr>\n",
              "  </thead>\n",
              "  <tbody>\n",
              "    <tr>\n",
              "      <th>0</th>\n",
              "      <td>-1.196062</td>\n",
              "      <td>-0.297743</td>\n",
              "      <td>0.001618</td>\n",
              "      <td>0.861565</td>\n",
              "      <td>-0.500782</td>\n",
              "      <td>-1.446373</td>\n",
              "      <td>0.427114</td>\n",
              "      <td>-1.024812</td>\n",
              "      <td>-0.007007</td>\n",
              "      <td>0.683745</td>\n",
              "      <td>...</td>\n",
              "      <td>1.0</td>\n",
              "      <td>0.0</td>\n",
              "      <td>0.0</td>\n",
              "      <td>0.0</td>\n",
              "      <td>0.0</td>\n",
              "      <td>1.0</td>\n",
              "      <td>0.0</td>\n",
              "      <td>0.0</td>\n",
              "      <td>0.0</td>\n",
              "      <td>0.0</td>\n",
              "    </tr>\n",
              "    <tr>\n",
              "      <th>1</th>\n",
              "      <td>2.117951</td>\n",
              "      <td>-1.842749</td>\n",
              "      <td>1.653669</td>\n",
              "      <td>0.861565</td>\n",
              "      <td>1.545461</td>\n",
              "      <td>0.290037</td>\n",
              "      <td>-0.276298</td>\n",
              "      <td>0.522915</td>\n",
              "      <td>0.039261</td>\n",
              "      <td>0.372932</td>\n",
              "      <td>...</td>\n",
              "      <td>1.0</td>\n",
              "      <td>0.0</td>\n",
              "      <td>1.0</td>\n",
              "      <td>0.0</td>\n",
              "      <td>0.0</td>\n",
              "      <td>0.0</td>\n",
              "      <td>0.0</td>\n",
              "      <td>0.0</td>\n",
              "      <td>0.0</td>\n",
              "      <td>0.0</td>\n",
              "    </tr>\n",
              "    <tr>\n",
              "      <th>2</th>\n",
              "      <td>0.206021</td>\n",
              "      <td>1.247264</td>\n",
              "      <td>0.255780</td>\n",
              "      <td>-0.412880</td>\n",
              "      <td>-0.500782</td>\n",
              "      <td>-0.578168</td>\n",
              "      <td>0.573190</td>\n",
              "      <td>0.935945</td>\n",
              "      <td>-0.599037</td>\n",
              "      <td>-0.870318</td>\n",
              "      <td>...</td>\n",
              "      <td>0.0</td>\n",
              "      <td>1.0</td>\n",
              "      <td>0.0</td>\n",
              "      <td>1.0</td>\n",
              "      <td>0.0</td>\n",
              "      <td>0.0</td>\n",
              "      <td>0.0</td>\n",
              "      <td>0.0</td>\n",
              "      <td>0.0</td>\n",
              "      <td>1.0</td>\n",
              "    </tr>\n",
              "    <tr>\n",
              "      <th>3</th>\n",
              "      <td>-1.450986</td>\n",
              "      <td>-1.842749</td>\n",
              "      <td>0.001618</td>\n",
              "      <td>0.861565</td>\n",
              "      <td>-0.500782</td>\n",
              "      <td>-1.446373</td>\n",
              "      <td>0.604653</td>\n",
              "      <td>0.681773</td>\n",
              "      <td>-0.582420</td>\n",
              "      <td>-0.381898</td>\n",
              "      <td>...</td>\n",
              "      <td>0.0</td>\n",
              "      <td>0.0</td>\n",
              "      <td>0.0</td>\n",
              "      <td>0.0</td>\n",
              "      <td>0.0</td>\n",
              "      <td>0.0</td>\n",
              "      <td>0.0</td>\n",
              "      <td>0.0</td>\n",
              "      <td>0.0</td>\n",
              "      <td>0.0</td>\n",
              "    </tr>\n",
              "    <tr>\n",
              "      <th>4</th>\n",
              "      <td>-0.941138</td>\n",
              "      <td>-0.297743</td>\n",
              "      <td>-1.777515</td>\n",
              "      <td>0.861565</td>\n",
              "      <td>-0.500782</td>\n",
              "      <td>-0.578168</td>\n",
              "      <td>-1.092076</td>\n",
              "      <td>0.000954</td>\n",
              "      <td>0.109966</td>\n",
              "      <td>1.571781</td>\n",
              "      <td>...</td>\n",
              "      <td>1.0</td>\n",
              "      <td>0.0</td>\n",
              "      <td>0.0</td>\n",
              "      <td>0.0</td>\n",
              "      <td>0.0</td>\n",
              "      <td>0.0</td>\n",
              "      <td>0.0</td>\n",
              "      <td>0.0</td>\n",
              "      <td>0.0</td>\n",
              "      <td>0.0</td>\n",
              "    </tr>\n",
              "    <tr>\n",
              "      <th>...</th>\n",
              "      <td>...</td>\n",
              "      <td>...</td>\n",
              "      <td>...</td>\n",
              "      <td>...</td>\n",
              "      <td>...</td>\n",
              "      <td>...</td>\n",
              "      <td>...</td>\n",
              "      <td>...</td>\n",
              "      <td>...</td>\n",
              "      <td>...</td>\n",
              "      <td>...</td>\n",
              "      <td>...</td>\n",
              "      <td>...</td>\n",
              "      <td>...</td>\n",
              "      <td>...</td>\n",
              "      <td>...</td>\n",
              "      <td>...</td>\n",
              "      <td>...</td>\n",
              "      <td>...</td>\n",
              "      <td>...</td>\n",
              "      <td>...</td>\n",
              "    </tr>\n",
              "    <tr>\n",
              "      <th>2273</th>\n",
              "      <td>1.353179</td>\n",
              "      <td>-0.297743</td>\n",
              "      <td>0.637022</td>\n",
              "      <td>-0.412880</td>\n",
              "      <td>0.522340</td>\n",
              "      <td>0.290037</td>\n",
              "      <td>-1.092076</td>\n",
              "      <td>-0.026278</td>\n",
              "      <td>-0.542669</td>\n",
              "      <td>-0.959122</td>\n",
              "      <td>...</td>\n",
              "      <td>0.0</td>\n",
              "      <td>0.0</td>\n",
              "      <td>0.0</td>\n",
              "      <td>0.0</td>\n",
              "      <td>0.0</td>\n",
              "      <td>1.0</td>\n",
              "      <td>0.0</td>\n",
              "      <td>0.0</td>\n",
              "      <td>0.0</td>\n",
              "      <td>0.0</td>\n",
              "    </tr>\n",
              "    <tr>\n",
              "      <th>2274</th>\n",
              "      <td>0.333483</td>\n",
              "      <td>-0.297743</td>\n",
              "      <td>0.255780</td>\n",
              "      <td>-0.412880</td>\n",
              "      <td>1.545461</td>\n",
              "      <td>0.290037</td>\n",
              "      <td>-1.092076</td>\n",
              "      <td>-1.147360</td>\n",
              "      <td>-0.739469</td>\n",
              "      <td>-0.959122</td>\n",
              "      <td>...</td>\n",
              "      <td>0.0</td>\n",
              "      <td>1.0</td>\n",
              "      <td>0.0</td>\n",
              "      <td>0.0</td>\n",
              "      <td>1.0</td>\n",
              "      <td>0.0</td>\n",
              "      <td>0.0</td>\n",
              "      <td>0.0</td>\n",
              "      <td>0.0</td>\n",
              "      <td>0.0</td>\n",
              "    </tr>\n",
              "    <tr>\n",
              "      <th>2275</th>\n",
              "      <td>0.078559</td>\n",
              "      <td>0.474761</td>\n",
              "      <td>0.382860</td>\n",
              "      <td>-1.050103</td>\n",
              "      <td>0.522340</td>\n",
              "      <td>-0.578168</td>\n",
              "      <td>-1.092076</td>\n",
              "      <td>0.236971</td>\n",
              "      <td>-0.345217</td>\n",
              "      <td>-0.204291</td>\n",
              "      <td>...</td>\n",
              "      <td>0.0</td>\n",
              "      <td>0.0</td>\n",
              "      <td>0.0</td>\n",
              "      <td>1.0</td>\n",
              "      <td>0.0</td>\n",
              "      <td>0.0</td>\n",
              "      <td>0.0</td>\n",
              "      <td>0.0</td>\n",
              "      <td>0.0</td>\n",
              "      <td>0.0</td>\n",
              "    </tr>\n",
              "    <tr>\n",
              "      <th>2276</th>\n",
              "      <td>0.333483</td>\n",
              "      <td>-0.297743</td>\n",
              "      <td>0.891184</td>\n",
              "      <td>-1.050103</td>\n",
              "      <td>0.522340</td>\n",
              "      <td>0.290037</td>\n",
              "      <td>1.064230</td>\n",
              "      <td>-1.065661</td>\n",
              "      <td>-0.113878</td>\n",
              "      <td>-0.293095</td>\n",
              "      <td>...</td>\n",
              "      <td>1.0</td>\n",
              "      <td>0.0</td>\n",
              "      <td>0.0</td>\n",
              "      <td>0.0</td>\n",
              "      <td>1.0</td>\n",
              "      <td>0.0</td>\n",
              "      <td>0.0</td>\n",
              "      <td>0.0</td>\n",
              "      <td>0.0</td>\n",
              "      <td>0.0</td>\n",
              "    </tr>\n",
              "    <tr>\n",
              "      <th>2277</th>\n",
              "      <td>-1.833372</td>\n",
              "      <td>-1.842749</td>\n",
              "      <td>-1.396272</td>\n",
              "      <td>1.498788</td>\n",
              "      <td>-0.500782</td>\n",
              "      <td>-0.578168</td>\n",
              "      <td>1.527179</td>\n",
              "      <td>1.230967</td>\n",
              "      <td>1.450750</td>\n",
              "      <td>0.461736</td>\n",
              "      <td>...</td>\n",
              "      <td>0.0</td>\n",
              "      <td>0.0</td>\n",
              "      <td>0.0</td>\n",
              "      <td>1.0</td>\n",
              "      <td>0.0</td>\n",
              "      <td>0.0</td>\n",
              "      <td>0.0</td>\n",
              "      <td>0.0</td>\n",
              "      <td>0.0</td>\n",
              "      <td>0.0</td>\n",
              "    </tr>\n",
              "  </tbody>\n",
              "</table>\n",
              "<p>2278 rows × 30 columns</p>\n",
              "</div>\n",
              "    <div class=\"colab-df-buttons\">\n",
              "\n",
              "  <div class=\"colab-df-container\">\n",
              "    <button class=\"colab-df-convert\" onclick=\"convertToInteractive('df-a08176f6-5d07-465c-93f1-e0f0fa42bc84')\"\n",
              "            title=\"Convert this dataframe to an interactive table.\"\n",
              "            style=\"display:none;\">\n",
              "\n",
              "  <svg xmlns=\"http://www.w3.org/2000/svg\" height=\"24px\" viewBox=\"0 -960 960 960\">\n",
              "    <path d=\"M120-120v-720h720v720H120Zm60-500h600v-160H180v160Zm220 220h160v-160H400v160Zm0 220h160v-160H400v160ZM180-400h160v-160H180v160Zm440 0h160v-160H620v160ZM180-180h160v-160H180v160Zm440 0h160v-160H620v160Z\"/>\n",
              "  </svg>\n",
              "    </button>\n",
              "\n",
              "  <style>\n",
              "    .colab-df-container {\n",
              "      display:flex;\n",
              "      gap: 12px;\n",
              "    }\n",
              "\n",
              "    .colab-df-convert {\n",
              "      background-color: #E8F0FE;\n",
              "      border: none;\n",
              "      border-radius: 50%;\n",
              "      cursor: pointer;\n",
              "      display: none;\n",
              "      fill: #1967D2;\n",
              "      height: 32px;\n",
              "      padding: 0 0 0 0;\n",
              "      width: 32px;\n",
              "    }\n",
              "\n",
              "    .colab-df-convert:hover {\n",
              "      background-color: #E2EBFA;\n",
              "      box-shadow: 0px 1px 2px rgba(60, 64, 67, 0.3), 0px 1px 3px 1px rgba(60, 64, 67, 0.15);\n",
              "      fill: #174EA6;\n",
              "    }\n",
              "\n",
              "    .colab-df-buttons div {\n",
              "      margin-bottom: 4px;\n",
              "    }\n",
              "\n",
              "    [theme=dark] .colab-df-convert {\n",
              "      background-color: #3B4455;\n",
              "      fill: #D2E3FC;\n",
              "    }\n",
              "\n",
              "    [theme=dark] .colab-df-convert:hover {\n",
              "      background-color: #434B5C;\n",
              "      box-shadow: 0px 1px 3px 1px rgba(0, 0, 0, 0.15);\n",
              "      filter: drop-shadow(0px 1px 2px rgba(0, 0, 0, 0.3));\n",
              "      fill: #FFFFFF;\n",
              "    }\n",
              "  </style>\n",
              "\n",
              "    <script>\n",
              "      const buttonEl =\n",
              "        document.querySelector('#df-a08176f6-5d07-465c-93f1-e0f0fa42bc84 button.colab-df-convert');\n",
              "      buttonEl.style.display =\n",
              "        google.colab.kernel.accessAllowed ? 'block' : 'none';\n",
              "\n",
              "      async function convertToInteractive(key) {\n",
              "        const element = document.querySelector('#df-a08176f6-5d07-465c-93f1-e0f0fa42bc84');\n",
              "        const dataTable =\n",
              "          await google.colab.kernel.invokeFunction('convertToInteractive',\n",
              "                                                    [key], {});\n",
              "        if (!dataTable) return;\n",
              "\n",
              "        const docLinkHtml = 'Like what you see? Visit the ' +\n",
              "          '<a target=\"_blank\" href=https://colab.research.google.com/notebooks/data_table.ipynb>data table notebook</a>'\n",
              "          + ' to learn more about interactive tables.';\n",
              "        element.innerHTML = '';\n",
              "        dataTable['output_type'] = 'display_data';\n",
              "        await google.colab.output.renderOutput(dataTable, element);\n",
              "        const docLink = document.createElement('div');\n",
              "        docLink.innerHTML = docLinkHtml;\n",
              "        element.appendChild(docLink);\n",
              "      }\n",
              "    </script>\n",
              "  </div>\n",
              "\n",
              "\n",
              "<div id=\"df-7b6d8ba8-89c4-466e-a1b9-416158abe859\">\n",
              "  <button class=\"colab-df-quickchart\" onclick=\"quickchart('df-7b6d8ba8-89c4-466e-a1b9-416158abe859')\"\n",
              "            title=\"Suggest charts\"\n",
              "            style=\"display:none;\">\n",
              "\n",
              "<svg xmlns=\"http://www.w3.org/2000/svg\" height=\"24px\"viewBox=\"0 0 24 24\"\n",
              "     width=\"24px\">\n",
              "    <g>\n",
              "        <path d=\"M19 3H5c-1.1 0-2 .9-2 2v14c0 1.1.9 2 2 2h14c1.1 0 2-.9 2-2V5c0-1.1-.9-2-2-2zM9 17H7v-7h2v7zm4 0h-2V7h2v10zm4 0h-2v-4h2v4z\"/>\n",
              "    </g>\n",
              "</svg>\n",
              "  </button>\n",
              "\n",
              "<style>\n",
              "  .colab-df-quickchart {\n",
              "      --bg-color: #E8F0FE;\n",
              "      --fill-color: #1967D2;\n",
              "      --hover-bg-color: #E2EBFA;\n",
              "      --hover-fill-color: #174EA6;\n",
              "      --disabled-fill-color: #AAA;\n",
              "      --disabled-bg-color: #DDD;\n",
              "  }\n",
              "\n",
              "  [theme=dark] .colab-df-quickchart {\n",
              "      --bg-color: #3B4455;\n",
              "      --fill-color: #D2E3FC;\n",
              "      --hover-bg-color: #434B5C;\n",
              "      --hover-fill-color: #FFFFFF;\n",
              "      --disabled-bg-color: #3B4455;\n",
              "      --disabled-fill-color: #666;\n",
              "  }\n",
              "\n",
              "  .colab-df-quickchart {\n",
              "    background-color: var(--bg-color);\n",
              "    border: none;\n",
              "    border-radius: 50%;\n",
              "    cursor: pointer;\n",
              "    display: none;\n",
              "    fill: var(--fill-color);\n",
              "    height: 32px;\n",
              "    padding: 0;\n",
              "    width: 32px;\n",
              "  }\n",
              "\n",
              "  .colab-df-quickchart:hover {\n",
              "    background-color: var(--hover-bg-color);\n",
              "    box-shadow: 0 1px 2px rgba(60, 64, 67, 0.3), 0 1px 3px 1px rgba(60, 64, 67, 0.15);\n",
              "    fill: var(--button-hover-fill-color);\n",
              "  }\n",
              "\n",
              "  .colab-df-quickchart-complete:disabled,\n",
              "  .colab-df-quickchart-complete:disabled:hover {\n",
              "    background-color: var(--disabled-bg-color);\n",
              "    fill: var(--disabled-fill-color);\n",
              "    box-shadow: none;\n",
              "  }\n",
              "\n",
              "  .colab-df-spinner {\n",
              "    border: 2px solid var(--fill-color);\n",
              "    border-color: transparent;\n",
              "    border-bottom-color: var(--fill-color);\n",
              "    animation:\n",
              "      spin 1s steps(1) infinite;\n",
              "  }\n",
              "\n",
              "  @keyframes spin {\n",
              "    0% {\n",
              "      border-color: transparent;\n",
              "      border-bottom-color: var(--fill-color);\n",
              "      border-left-color: var(--fill-color);\n",
              "    }\n",
              "    20% {\n",
              "      border-color: transparent;\n",
              "      border-left-color: var(--fill-color);\n",
              "      border-top-color: var(--fill-color);\n",
              "    }\n",
              "    30% {\n",
              "      border-color: transparent;\n",
              "      border-left-color: var(--fill-color);\n",
              "      border-top-color: var(--fill-color);\n",
              "      border-right-color: var(--fill-color);\n",
              "    }\n",
              "    40% {\n",
              "      border-color: transparent;\n",
              "      border-right-color: var(--fill-color);\n",
              "      border-top-color: var(--fill-color);\n",
              "    }\n",
              "    60% {\n",
              "      border-color: transparent;\n",
              "      border-right-color: var(--fill-color);\n",
              "    }\n",
              "    80% {\n",
              "      border-color: transparent;\n",
              "      border-right-color: var(--fill-color);\n",
              "      border-bottom-color: var(--fill-color);\n",
              "    }\n",
              "    90% {\n",
              "      border-color: transparent;\n",
              "      border-bottom-color: var(--fill-color);\n",
              "    }\n",
              "  }\n",
              "</style>\n",
              "\n",
              "  <script>\n",
              "    async function quickchart(key) {\n",
              "      const quickchartButtonEl =\n",
              "        document.querySelector('#' + key + ' button');\n",
              "      quickchartButtonEl.disabled = true;  // To prevent multiple clicks.\n",
              "      quickchartButtonEl.classList.add('colab-df-spinner');\n",
              "      try {\n",
              "        const charts = await google.colab.kernel.invokeFunction(\n",
              "            'suggestCharts', [key], {});\n",
              "      } catch (error) {\n",
              "        console.error('Error during call to suggestCharts:', error);\n",
              "      }\n",
              "      quickchartButtonEl.classList.remove('colab-df-spinner');\n",
              "      quickchartButtonEl.classList.add('colab-df-quickchart-complete');\n",
              "    }\n",
              "    (() => {\n",
              "      let quickchartButtonEl =\n",
              "        document.querySelector('#df-7b6d8ba8-89c4-466e-a1b9-416158abe859 button');\n",
              "      quickchartButtonEl.style.display =\n",
              "        google.colab.kernel.accessAllowed ? 'block' : 'none';\n",
              "    })();\n",
              "  </script>\n",
              "</div>\n",
              "\n",
              "  <div id=\"id_8ee1d192-2fce-4c6d-a29e-c3470ec163e1\">\n",
              "    <style>\n",
              "      .colab-df-generate {\n",
              "        background-color: #E8F0FE;\n",
              "        border: none;\n",
              "        border-radius: 50%;\n",
              "        cursor: pointer;\n",
              "        display: none;\n",
              "        fill: #1967D2;\n",
              "        height: 32px;\n",
              "        padding: 0 0 0 0;\n",
              "        width: 32px;\n",
              "      }\n",
              "\n",
              "      .colab-df-generate:hover {\n",
              "        background-color: #E2EBFA;\n",
              "        box-shadow: 0px 1px 2px rgba(60, 64, 67, 0.3), 0px 1px 3px 1px rgba(60, 64, 67, 0.15);\n",
              "        fill: #174EA6;\n",
              "      }\n",
              "\n",
              "      [theme=dark] .colab-df-generate {\n",
              "        background-color: #3B4455;\n",
              "        fill: #D2E3FC;\n",
              "      }\n",
              "\n",
              "      [theme=dark] .colab-df-generate:hover {\n",
              "        background-color: #434B5C;\n",
              "        box-shadow: 0px 1px 3px 1px rgba(0, 0, 0, 0.15);\n",
              "        filter: drop-shadow(0px 1px 2px rgba(0, 0, 0, 0.3));\n",
              "        fill: #FFFFFF;\n",
              "      }\n",
              "    </style>\n",
              "    <button class=\"colab-df-generate\" onclick=\"generateWithVariable('X_train')\"\n",
              "            title=\"Generate code using this dataframe.\"\n",
              "            style=\"display:none;\">\n",
              "\n",
              "  <svg xmlns=\"http://www.w3.org/2000/svg\" height=\"24px\"viewBox=\"0 0 24 24\"\n",
              "       width=\"24px\">\n",
              "    <path d=\"M7,19H8.4L18.45,9,17,7.55,7,17.6ZM5,21V16.75L18.45,3.32a2,2,0,0,1,2.83,0l1.4,1.43a1.91,1.91,0,0,1,.58,1.4,1.91,1.91,0,0,1-.58,1.4L9.25,21ZM18.45,9,17,7.55Zm-12,3A5.31,5.31,0,0,0,4.9,8.1,5.31,5.31,0,0,0,1,6.5,5.31,5.31,0,0,0,4.9,4.9,5.31,5.31,0,0,0,6.5,1,5.31,5.31,0,0,0,8.1,4.9,5.31,5.31,0,0,0,12,6.5,5.46,5.46,0,0,0,6.5,12Z\"/>\n",
              "  </svg>\n",
              "    </button>\n",
              "    <script>\n",
              "      (() => {\n",
              "      const buttonEl =\n",
              "        document.querySelector('#id_8ee1d192-2fce-4c6d-a29e-c3470ec163e1 button.colab-df-generate');\n",
              "      buttonEl.style.display =\n",
              "        google.colab.kernel.accessAllowed ? 'block' : 'none';\n",
              "\n",
              "      buttonEl.onclick = () => {\n",
              "        google.colab.notebook.generateWithVariable('X_train');\n",
              "      }\n",
              "      })();\n",
              "    </script>\n",
              "  </div>\n",
              "\n",
              "    </div>\n",
              "  </div>\n"
            ],
            "application/vnd.google.colaboratory.intrinsic+json": {
              "type": "dataframe",
              "variable_name": "X_train"
            }
          },
          "metadata": {},
          "execution_count": 45
        }
      ],
      "source": [
        "X_train"
      ]
    },
    {
      "cell_type": "code",
      "execution_count": 46,
      "metadata": {
        "id": "tiHj0aoKQeRz"
      },
      "outputs": [],
      "source": [
        "from models import grid_lr\n",
        "from models import grid_SVM\n",
        "from models import grid_MLP\n",
        "from sklearn.metrics import classification_report"
      ]
    },
    {
      "cell_type": "code",
      "execution_count": 47,
      "metadata": {
        "id": "rbyxJ8nAQeRz",
        "outputId": "b9af4308-26ba-4d29-cef3-96a2641f0028",
        "colab": {
          "base_uri": "https://localhost:8080/"
        }
      },
      "outputs": [
        {
          "output_type": "stream",
          "name": "stdout",
          "text": [
            "              precision    recall  f1-score   support\n",
            "\n",
            "           0       0.97      0.84      0.90      2551\n",
            "           1       0.51      0.87      0.65       488\n",
            "\n",
            "    accuracy                           0.85      3039\n",
            "   macro avg       0.74      0.86      0.77      3039\n",
            "weighted avg       0.90      0.85      0.86      3039\n",
            "\n"
          ]
        }
      ],
      "source": [
        "model_lr = grid_lr(X_train, y_train)\n",
        "lr_predict = model_lr.predict(X_test)\n",
        "print(classification_report(y_test, lr_predict))\n",
        "lr_table  = pd.DataFrame(classification_report(y_test, lr_predict, output_dict=True)).iloc[:,0:2]"
      ]
    },
    {
      "cell_type": "code",
      "execution_count": 48,
      "metadata": {
        "id": "21DMr0zgQeRz",
        "outputId": "0dea2349-5002-46ce-f68a-2271e6f6ac37",
        "colab": {
          "base_uri": "https://localhost:8080/"
        }
      },
      "outputs": [
        {
          "output_type": "stream",
          "name": "stdout",
          "text": [
            "              precision    recall  f1-score   support\n",
            "\n",
            "           0       0.99      0.89      0.94      2551\n",
            "           1       0.62      0.94      0.75       488\n",
            "\n",
            "    accuracy                           0.90      3039\n",
            "   macro avg       0.80      0.91      0.84      3039\n",
            "weighted avg       0.93      0.90      0.91      3039\n",
            "\n"
          ]
        }
      ],
      "source": [
        "model_SVM  = grid_SVM(X_train, y_train)\n",
        "SVM_predict = model_SVM.predict(X_test)\n",
        "print(classification_report(y_test, SVM_predict))\n",
        "SVM_table  = pd.DataFrame(classification_report(y_test,  SVM_predict, output_dict=True)).iloc[:,0:2]\n"
      ]
    },
    {
      "cell_type": "code",
      "execution_count": 49,
      "metadata": {
        "id": "-rOAw4dOQeRz",
        "outputId": "22a0946f-6beb-471e-c3fd-bc1e5ce9e668",
        "colab": {
          "base_uri": "https://localhost:8080/"
        }
      },
      "outputs": [
        {
          "output_type": "stream",
          "name": "stdout",
          "text": [
            "              precision    recall  f1-score   support\n",
            "\n",
            "           0       0.99      0.88      0.93      2551\n",
            "           1       0.60      0.94      0.73       488\n",
            "\n",
            "    accuracy                           0.89      3039\n",
            "   macro avg       0.80      0.91      0.83      3039\n",
            "weighted avg       0.93      0.89      0.90      3039\n",
            "\n"
          ]
        }
      ],
      "source": [
        "model_mlp  = grid_MLP(X_train, y_train)\n",
        "NN_predict = model_mlp.predict(X_test)\n",
        "print(classification_report(y_test, NN_predict))\n",
        "MLP_table  = pd.DataFrame(classification_report(y_test,  NN_predict, output_dict=True)).iloc[:,0:2]"
      ]
    },
    {
      "cell_type": "code",
      "execution_count": null,
      "metadata": {
        "id": "6WlfvADFQeRz",
        "outputId": "eec2d394-93fe-4d0d-e763-d690f24d497b",
        "colab": {
          "base_uri": "https://localhost:8080/"
        }
      },
      "outputs": [
        {
          "output_type": "stream",
          "name": "stdout",
          "text": [
            "----------------------------------------\n",
            "(50, 80, 3, 0.05, 0.8, 0.5, 0.055)\n",
            "----------------------------------------\n",
            "---------------\n",
            "Generation:  1\n",
            "---------------\n",
            "Fitest : 0.6718567428459986 Inequality:  0.020997178476902648 Generation without improvement:  0\n",
            "Stats mean:  0.5591613130964845 std:  0.1796303529904277 min: 0.0 max:  0.6718567428459986\n",
            "0.6718567428459986 0.020997178476902648 0 (0.5591613130964845, 0.1796303529904277, 0.0, 0.6718567428459986)\n",
            "---------------\n",
            "Generation:  2\n",
            "---------------\n",
            "Fitest : 0.6942343854798209 Inequality:  0.0007494401298959758 Generation without improvement:  0\n",
            "Stats mean:  0.6484636970721063 std:  0.04760152084254895 min: 0.4348976329991762 max:  0.6942343854798209\n",
            "0.6942343854798209 0.0007494401298959758 0 (0.6484636970721063, 0.04760152084254895, 0.4348976329991762, 0.6942343854798209)\n",
            "---------------\n",
            "Generation:  3\n",
            "---------------\n",
            "Fitest : 0.7101908732412154 Inequality:  0.007345996252082384 Generation without improvement:  0\n",
            "Stats mean:  0.6349446592267547 std:  0.11780872097296305 min: 0.0 max:  0.7101908732412154\n",
            "0.7101908732412154 0.007345996252082384 0 (0.6349446592267547, 0.11780872097296305, 0.0, 0.7101908732412154)\n",
            "---------------\n",
            "Generation:  4\n",
            "---------------\n",
            "Fitest : 0.6674689310343532 Inequality:  0.011424975416477077 Generation without improvement:  0\n",
            "Stats mean:  0.6110456418615537 std:  0.14133884940697738 min: 0.0 max:  0.6674689310343532\n",
            "0.6674689310343532 0.011424975416477077 0 (0.6110456418615537, 0.14133884940697738, 0.0, 0.6674689310343532)\n",
            "---------------\n",
            "Generation:  5\n",
            "---------------\n",
            "Fitest : 0.6737258852257197 Inequality:  0.0051731202262925 Generation without improvement:  0\n",
            "Stats mean:  0.6427446092768676 std:  0.1032849834505136 min: 0.044730251796220054 max:  0.6737258852257197\n",
            "0.6737258852257197 0.0051731202262925 0 (0.6427446092768676, 0.1032849834505136, 0.044730251796220054, 0.6737258852257197)\n",
            "---------------\n",
            "Generation:  6\n",
            "---------------\n",
            "Fitest : 0.6737258852257197 Inequality:  3.7971023307495676e-05 Generation without improvement:  1\n",
            "Stats mean:  0.6637146291459886 std:  0.011303184001470921 min: 0.602946371404566 max:  0.6737258852257197\n",
            "0.6737258852257197 3.7971023307495676e-05 1 (0.6637146291459886, 0.011303184001470921, 0.602946371404566, 0.6737258852257197)\n",
            "---------------\n",
            "Generation:  7\n",
            "---------------\n",
            "Fitest : 0.6737258852257197 Inequality:  0.005391357087969637 Generation without improvement:  2\n",
            "Stats mean:  0.6467295643864367 std:  0.09616575800066558 min: 0.0 max:  0.6737258852257197\n",
            "0.6737258852257197 0.005391357087969637 2 (0.6467295643864367, 0.09616575800066558, 0.0, 0.6737258852257197)\n",
            "---------------\n",
            "Generation:  8\n",
            "---------------\n",
            "Fitest : 0.6686355674308915 Inequality:  0.00017544525191405468 Generation without improvement:  3\n",
            "Stats mean:  0.6624614875561405 std:  0.023573356685844066 min: 0.5035969981523071 max:  0.6686355674308915\n",
            "0.6686355674308915 0.00017544525191405468 3 (0.6624614875561405, 0.023573356685844066, 0.5035969981523071, 0.6686355674308915)\n",
            "---------------\n",
            "Generation:  9\n",
            "---------------\n",
            "Fitest : 0.6666663804244685 Inequality:  5.398353416415723e-05 Generation without improvement:  4\n",
            "Stats mean:  0.6644736613987519 std:  0.013341299990807484 min: 0.5721932585848453 max:  0.6666663804244685\n",
            "0.6666663804244685 5.398353416415723e-05 4 (0.6644736613987519, 0.013341299990807484, 0.5721932585848453, 0.6666663804244685)\n",
            "---------------\n",
            "Generation:  10\n",
            "---------------\n",
            "Fitest : 0.6813663871404219 Inequality:  0.00012706966531690394 Generation without improvement:  5\n",
            "Stats mean:  0.6623379073180822 std:  0.020296916348371302 min: 0.5354285891918017 max:  0.6813663871404219\n",
            "0.6813663871404219 0.00012706966531690394 5 (0.6623379073180822, 0.020296916348371302, 0.5354285891918017, 0.6813663871404219)\n",
            "---------------\n",
            "Generation:  11\n",
            "---------------\n",
            "Fitest : 0.6813663871404219 Inequality:  0.00031109942453860225 Generation without improvement:  0\n",
            "Stats mean:  0.6624936396250122 std:  0.03079242421907999 min: 0.4475274457088549 max:  0.6813663871404219\n",
            "0.6813663871404219 0.00031109942453860225 0 (0.6624936396250122, 0.03079242421907999, 0.4475274457088549, 0.6813663871404219)\n",
            "---------------\n",
            "Generation:  12\n",
            "---------------\n",
            "Fitest : 0.6813663871404219 Inequality:  0.0026939849727948386 Generation without improvement:  1\n",
            "Stats mean:  0.6473847129986234 std:  0.08239447275334395 min: 0.18335095434349016 max:  0.6813663871404219\n",
            "0.6813663871404219 0.0026939849727948386 1 (0.6473847129986234, 0.08239447275334395, 0.18335095434349016, 0.6813663871404219)\n",
            "---------------\n",
            "Generation:  13\n",
            "---------------\n",
            "Fitest : 0.6784689353144968 Inequality:  8.449189039594154e-07 Generation without improvement:  2\n",
            "Stats mean:  0.6668393844552442 std:  0.0017189596496134149 min: 0.6635140270732314 max:  0.6784689353144968\n",
            "0.6784689353144968 8.449189039594154e-07 2 (0.6668393844552442, 0.0017189596496134149, 0.6635140270732314, 0.6784689353144968)\n",
            "---------------\n",
            "Generation:  14\n",
            "---------------\n",
            "Fitest : 0.6670576608732283 Inequality:  1.1928025996694575e-05 Generation without improvement:  3\n",
            "Stats mean:  0.6657658014898888 std:  0.006360185557665579 min: 0.6212461532467259 max:  0.6670576608732283\n",
            "0.6670576608732283 1.1928025996694575e-05 3 (0.6657658014898888, 0.006360185557665579, 0.6212461532467259, 0.6670576608732283)\n"
          ]
        }
      ],
      "source": [
        "architecture = (5,5,1)\n",
        "Pop_sizes  = [50]             # 75\n",
        "generations = [80]\n",
        "Mutations = [0.05]  #0.05, 0.09\n",
        "Tournaments = [3] # 3,5\n",
        "Cross = [0.80] # 0.75, 85\n",
        "probs_mate = [0.5]\n",
        "probs_mutate = [0.055]\n",
        "\n",
        "regist = gaMLP_ragnarok(\n",
        "    mutations = Mutations,\n",
        "    architecture = architecture,\n",
        "    pop_sizes = Pop_sizes,\n",
        "    cross = Cross,\n",
        "    max_generations= generations,\n",
        "    tournament_sizes = Tournaments,\n",
        "    mate_indpb = probs_mate,\n",
        "    mutate_indpb = probs_mutate,\n",
        "    classifier = MLPclassifer,\n",
        "    ineq_measure = Theil,\n",
        "    ineq_min = 0,\n",
        "    k_folds=5,\n",
        "    limit_unchanged = 60,\n",
        "    X_train = X_train,\n",
        "    y_train = y_train,\n",
        "    verbose = True,\n",
        ")"
      ]
    },
    {
      "cell_type": "code",
      "execution_count": null,
      "metadata": {
        "id": "Wid3q9UrQeR0"
      },
      "outputs": [],
      "source": [
        "parameters_ = select_optimun_parameters(regist=regist,\n",
        "                           architecture=architecture,\n",
        "                             k_folds=5,\n",
        "                             X_train=X_train,\n",
        "                             y_train=y_train,\n",
        "                             assessment_metric = f1_score)"
      ]
    },
    {
      "cell_type": "code",
      "execution_count": null,
      "metadata": {
        "id": "Zvsr2UTYQeR0"
      },
      "outputs": [],
      "source": [
        "fittest_individual, history, stats = gaMLP_score(\n",
        "                    classifier = MLPclassifer,\n",
        "                    architecture = architecture,\n",
        "                    population_size =parameters_[0],\n",
        "                    max_generations = parameters_[1],\n",
        "                    tournament_size =parameters_[2],\n",
        "                    MUTPB = parameters_[3],\n",
        "                    CXPB = parameters_[4],\n",
        "                    mate_indpb = parameters_[5],\n",
        "                    mutate_indpb = parameters_[6],\n",
        "                    ineq_measure=Theil,\n",
        "                    ineq_min  = 0,\n",
        "                    limit_unchanged = 60,\n",
        "                    k_folds = 5,\n",
        "                    X_train = X_train,\n",
        "                    y_train = y_train,\n",
        "                    verbose=True)"
      ]
    },
    {
      "cell_type": "code",
      "execution_count": null,
      "metadata": {
        "id": "kT2keFtgQeR0"
      },
      "outputs": [],
      "source": [
        "preds_GA = np.where(MLP(architecture=architecture, X_train=X_test, y_train=y_test, initial_solution=fittest_individual, preds=True)>0.5,1,0)\n",
        "GA  = pd.DataFrame(classification_report(y_test, preds_GA, output_dict=True)).iloc[:,0:2]\n",
        "GA"
      ]
    },
    {
      "cell_type": "code",
      "execution_count": null,
      "metadata": {
        "id": "JZgWG_jkQeR0"
      },
      "outputs": [],
      "source": [
        "from LocalSearch import SA_max\n",
        "from LocalSearch import search\n",
        "from sklearn.metrics import f1_score\n",
        "SAsolution  = SA_max(\n",
        "    solution = fittest_individual,\n",
        "    search = search,\n",
        "    Tf= 0,\n",
        "    cooling_rate = 35,\n",
        "    beta = 0.001,\n",
        "    reduce_temp=0.00001,  #0.0001\n",
        "    seed_random= 123,\n",
        "    alpha = 0.1,\n",
        "    max_iterations = 150, #100\n",
        "    fitnessFunction = lambda x: MLP(architecture=architecture,\n",
        "                                       X_train = X_train,\n",
        "                                       y_train = y_train,\n",
        "                                       initial_solution=x,\n",
        "                                       score = f1_score))"
      ]
    },
    {
      "cell_type": "code",
      "execution_count": null,
      "metadata": {
        "id": "2tAQU1ruQeR0"
      },
      "outputs": [],
      "source": [
        "preds_GASA = np.where(MLP(architecture=architecture, X_train=X_test, y_train=y_test,\n",
        "                          initial_solution=SAsolution['major'][1],\n",
        "                          preds=True)>0.5,1,0)\n",
        "GASA  = pd.DataFrame(classification_report(y_test, preds_GASA, output_dict=True)).iloc[:,0:2]\n"
      ]
    },
    {
      "cell_type": "code",
      "execution_count": null,
      "metadata": {
        "id": "4MWseWNZQeR0"
      },
      "outputs": [],
      "source": [
        "models_tab = pd.concat([lr_table, SVM_table, MLP_table, GASA], axis=1)\n",
        "cols_names =  pd.MultiIndex.from_tuples([('Logistic regression','No-churn'),(\"Logistic regression\",'Churn'),\n",
        "              (\"Support vector machine\",'No-churn'),('Support vector machine','churn'),\n",
        "              ('Backpropagation NN', 'No-churn'), ('Backpropagation NN', 'churn'),\n",
        "              ('Genetic annealing NN', 'No-churn'), ('Genetic annealing NN', 'churn'),])\n",
        "models_tab.columns  = cols_names\n",
        "models_tab.to_excel(\"resultados.xlsx\")\n",
        "models_tab"
      ]
    }
  ],
  "metadata": {
    "kernelspec": {
      "display_name": "Python 3",
      "name": "python3"
    },
    "language_info": {
      "codemirror_mode": {
        "name": "ipython",
        "version": 3
      },
      "file_extension": ".py",
      "mimetype": "text/x-python",
      "name": "python",
      "nbconvert_exporter": "python",
      "pygments_lexer": "ipython3",
      "version": "3.11.2"
    },
    "colab": {
      "provenance": [],
      "gpuType": "V28",
      "include_colab_link": true
    },
    "accelerator": "TPU"
  },
  "nbformat": 4,
  "nbformat_minor": 0
}