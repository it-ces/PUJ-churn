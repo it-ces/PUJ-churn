{
 "cells": [
  {
   "cell_type": "code",
   "execution_count": 1,
   "metadata": {},
   "outputs": [
    {
     "name": "stdout",
     "output_type": "stream",
     "text": [
      "WARNING:tensorflow:From c:\\Users\\sjrp2\\AppData\\Local\\Programs\\Python\\Python311\\Lib\\site-packages\\keras\\src\\losses.py:2976: The name tf.losses.sparse_softmax_cross_entropy is deprecated. Please use tf.compat.v1.losses.sparse_softmax_cross_entropy instead.\n",
      "\n"
     ]
    }
   ],
   "source": [
    "# Benchmark models\n",
    "import pandas as pd\n",
    "import numpy as np\n",
    "from sklearn.model_selection import train_test_split\n",
    "from preprocessing import complete_vars\n",
    "from preprocessing import ratios\n",
    "from preprocessing import breakdown_vars\n",
    "from preprocessing import dummies_ohe\n",
    "from preprocessing import Xy\n",
    "from preprocessing import std_z\n",
    "from imblearn.under_sampling import RandomUnderSampler\n",
    "\n",
    "\n",
    "from Genfet import GaFeatureSelection\n",
    "from Genfet import Geafet\n",
    "from gentools import historical_fittest\n",
    "from gentools import PerformanceTest\n",
    "from gentools import get_names\n",
    "from gentools import plot_stats\n",
    "from ineq import Theil\n",
    "from sklearn.linear_model import LogisticRegression\n",
    "\n",
    "\n",
    "\n",
    "# Models\n",
    "import numpy as np\n",
    "from sklearn.linear_model import LogisticRegression\n",
    "from sklearn.ensemble import AdaBoostClassifier\n",
    "from sklearn.base import BaseEstimator, ClassifierMixin\n",
    "from sklearn.neighbors import KNeighborsClassifier\n",
    "from sklearn.ensemble import RandomForestClassifier\n",
    "from sklearn.svm import SVC\n",
    "from sklearn.svm import LinearSVC\n",
    "from sklearn.model_selection import RepeatedStratifiedKFold\n",
    "from sklearn.model_selection import GridSearchCV\n",
    "from sklearn.metrics import make_scorer, confusion_matrix\n",
    "from sklearn.metrics import f1_score  #ytrue, ypred\n",
    "from sklearn.metrics import accuracy_score\n",
    "from sklearn.metrics import recall_score\n",
    "\n",
    "from sklearn.metrics import classification_report\n",
    "\n",
    "\n",
    "from GeneticNeuralNetwork import gaMLP_Entropy\n",
    "from sklearn.model_selection import StratifiedKFold\n",
    "from ineq import Theil\n",
    "from gentools import plot_stats\n",
    "import pandas as pd\n",
    "from sklearn.model_selection import train_test_split\n",
    "from imblearn.under_sampling import RandomUnderSampler\n",
    "\n",
    "from LocalSearch import ModelArchitecture\n",
    "\n",
    "# Third libraries\n",
    "import pandas as pd\n",
    "from tensorflow.keras import Sequential\n",
    "import tensorflow as tf\n",
    "from NeuralNetwork import  MLP\n",
    "import itertools\n",
    "from Experiment import hypersearch_GeneticNN\n",
    "from Experiment import eval_model_NN   \n",
    "from Experiment import mean_results_NN"
   ]
  },
  {
   "cell_type": "code",
   "execution_count": 2,
   "metadata": {},
   "outputs": [
    {
     "name": "stdout",
     "output_type": "stream",
     "text": [
      "<class 'pandas.core.frame.DataFrame'>\n",
      "Index: 771 entries, 4 to 26499\n",
      "Data columns (total 12 columns):\n",
      " #   Column                              Non-Null Count  Dtype  \n",
      "---  ------                              --------------  -----  \n",
      " 0   Ganancia bruta                      353 non-null    float64\n",
      " 1   Ganancia (pérdida)                  353 non-null    float64\n",
      " 2   Ingresos de actividades ordinarias  353 non-null    float64\n",
      " 3   Costo de ventas                     330 non-null    float64\n",
      " 4   Patrimonio total                    353 non-null    float64\n",
      " 5   Total pasivos                       353 non-null    float64\n",
      " 6   Total de activos                    353 non-null    float64\n",
      " 7   Ganancias acumuladas                351 non-null    float64\n",
      " 8   Pasivos corrientes totales          352 non-null    float64\n",
      " 9   Activos corrientes totales          353 non-null    float64\n",
      " 10  event                               771 non-null    float64\n",
      " 11  Sector                              771 non-null    object \n",
      "dtypes: float64(11), object(1)\n",
      "memory usage: 78.3+ KB\n",
      "None\n",
      "<class 'pandas.core.frame.DataFrame'>\n",
      "Index: 328 entries, 4 to 14903\n",
      "Data columns (total 13 columns):\n",
      " #   Column                              Non-Null Count  Dtype  \n",
      "---  ------                              --------------  -----  \n",
      " 0   Ganancia bruta                      328 non-null    float64\n",
      " 1   Ganancia (pérdida)                  328 non-null    float64\n",
      " 2   Ingresos de actividades ordinarias  328 non-null    float64\n",
      " 3   Costo de ventas                     328 non-null    float64\n",
      " 4   Patrimonio total                    328 non-null    float64\n",
      " 5   Total pasivos                       328 non-null    float64\n",
      " 6   Total de activos                    328 non-null    float64\n",
      " 7   Ganancias acumuladas                328 non-null    float64\n",
      " 8   Pasivos corrientes totales          328 non-null    float64\n",
      " 9   Activos corrientes totales          328 non-null    float64\n",
      " 10  event                               328 non-null    float64\n",
      " 11  Sector                              328 non-null    object \n",
      " 12  complete-vars                       328 non-null    float64\n",
      "dtypes: float64(12), object(1)\n",
      "memory usage: 35.9+ KB\n",
      "None\n",
      "<class 'pandas.core.frame.DataFrame'>\n",
      "Index: 328 entries, 4 to 14903\n",
      "Data columns (total 23 columns):\n",
      " #   Column                              Non-Null Count  Dtype  \n",
      "---  ------                              --------------  -----  \n",
      " 0   Ganancia bruta                      328 non-null    float64\n",
      " 1   Ganancia (pérdida)                  328 non-null    float64\n",
      " 2   Ingresos de actividades ordinarias  328 non-null    float64\n",
      " 3   Costo de ventas                     328 non-null    float64\n",
      " 4   Patrimonio total                    328 non-null    float64\n",
      " 5   Total pasivos                       328 non-null    float64\n",
      " 6   Total de activos                    328 non-null    float64\n",
      " 7   Ganancias acumuladas                328 non-null    float64\n",
      " 8   Pasivos corrientes totales          328 non-null    float64\n",
      " 9   Activos corrientes totales          328 non-null    float64\n",
      " 10  event                               328 non-null    float64\n",
      " 11  Sector                              328 non-null    object \n",
      " 12  complete-vars                       328 non-null    float64\n",
      " 13  DER                                 328 non-null    float64\n",
      " 14  CR                                  328 non-null    float64\n",
      " 15  GPM                                 320 non-null    float64\n",
      " 16  NPM                                 326 non-null    float64\n",
      " 17  ROE                                 328 non-null    float64\n",
      " 18  ROA                                 328 non-null    float64\n",
      " 19  IR                                  328 non-null    float64\n",
      " 20  RSL                                 327 non-null    float64\n",
      " 21  Ax1                                 328 non-null    float64\n",
      " 22  Ax2                                 328 non-null    float64\n",
      "dtypes: float64(22), object(1)\n",
      "memory usage: 61.5+ KB\n",
      "None\n"
     ]
    }
   ],
   "source": [
    "df_train = pd.read_csv(\"Datapooled.csv\")\n",
    "\n",
    "VARS = ['Ganancia bruta', 'Ganancia (pérdida)','Ingresos de actividades ordinarias' , 'Costo de ventas', 'Patrimonio total',\n",
    "     'Total pasivos', 'Total de activos', 'Ganancias acumuladas',  'Pasivos corrientes totales',  'Activos corrientes totales']\n",
    "\n",
    "df_train.rename(columns={'Clasificación Industrial Internacional Uniforme Versión 4 A.C':'Sector'}, inplace=True)\n",
    "\n",
    "df_train = df_train[VARS+[ 'event', 'Sector']]\n",
    "print(df_train[df_train['event']==1].info())\n",
    "df_train['complete-vars'] = complete_vars(df_train) #1 is that have all variables!\n",
    "df_train =  df_train[df_train['complete-vars']==1] #filtering firms that have not financial information \n",
    "print(df_train[df_train['event']==1].info())\n",
    "df_train = ratios(df_train)\n",
    "predictors =[ 'GPM', 'NPM', 'ROE','ROA', 'IR', 'DER', 'RSL', 'CR', 'Ax1', 'Ax2', 'Sector']\n",
    "print(df_train[df_train['event']==1].info())\n",
    "df_train.replace([np.inf,-np.inf], np.nan, inplace=True)\n",
    "df_train.dropna(inplace=True)\n",
    "df_train.drop(columns=['complete-vars'], inplace=True)\n",
    "df_train = df_train[predictors + ['event']]"
   ]
  },
  {
   "cell_type": "code",
   "execution_count": 3,
   "metadata": {},
   "outputs": [
    {
     "name": "stderr",
     "output_type": "stream",
     "text": [
      "c:\\Users\\sjrp2\\AppData\\Local\\Programs\\Python\\Python311\\Lib\\site-packages\\scipy\\stats\\_morestats.py:1816: UserWarning: p-value may not be accurate for N > 5000.\n",
      "  warnings.warn(\"p-value may not be accurate for N > 5000.\")\n"
     ]
    }
   ],
   "source": [
    "X, y = Xy(df_train, 'event')\n",
    "cat, nonormal, normal  = breakdown_vars(X)\n",
    "nums = nonormal + normal\n",
    "X = dummies_ohe(X, cat)\n",
    "X_train, X_test, y_train, y_test = train_test_split(X, y, test_size=0.2, shuffle = True, random_state = 666, stratify=y)\n",
    "rus = RandomUnderSampler(random_state=123)\n",
    "X_train, y_train = rus.fit_resample(X_train, y_train)\n",
    "X_train = std_z(nums, X_train)\n",
    "X_test = std_z(nums = nums, df_ = X_test)\n",
    "\n",
    "vars = ['ROE', 'ROA',\n",
    "         'IR', 'RSL', \n",
    "         'Sector_D', 'Sector_E', \n",
    "         'Sector_G','Sector_J', \n",
    "         'Sector_K', 'Sector_L', \n",
    "         'Sector_M', 'Sector_O', \n",
    "         'Sector_Q','Sector_R']\n",
    "\n",
    "\n",
    "X_train, X_test = X_train.loc[:, vars],  X_test.loc[:, vars]"
   ]
  },
  {
   "cell_type": "code",
   "execution_count": 4,
   "metadata": {},
   "outputs": [
    {
     "data": {
      "text/plain": [
       "event\n",
       "0.0    254\n",
       "1.0    254\n",
       "Name: count, dtype: int64"
      ]
     },
     "execution_count": 4,
     "metadata": {},
     "output_type": "execute_result"
    }
   ],
   "source": [
    "y_train.value_counts()"
   ]
  },
  {
   "cell_type": "code",
   "execution_count": 5,
   "metadata": {},
   "outputs": [
    {
     "data": {
      "text/plain": [
       "event\n",
       "0.0    3296\n",
       "1.0      64\n",
       "Name: count, dtype: int64"
      ]
     },
     "execution_count": 5,
     "metadata": {},
     "output_type": "execute_result"
    }
   ],
   "source": [
    "y_test.value_counts()"
   ]
  },
  {
   "cell_type": "code",
   "execution_count": 6,
   "metadata": {},
   "outputs": [],
   "source": [
    "# Logistic Regression\n",
    "def grid_lr(X_train, y_train):\n",
    "    model = LogisticRegression(random_state=666, max_iter=1500)\n",
    "    solvers = ['liblinear']\n",
    "    penalty = ['l2','l1',]\n",
    "    c_values = [1000, 100, 10, 1.0, 0.1, 0.01, 0.001,0.0001 , 0.00001 ]\n",
    "    grid = dict(solver=solvers,penalty=penalty,C=c_values)\n",
    "    cv = RepeatedStratifiedKFold(n_splits=5, n_repeats=1, random_state=1)\n",
    "    grid_search = GridSearchCV(estimator=model, param_grid=grid, n_jobs=-1, cv=cv,\n",
    "                           scoring='f1',error_score='raise')\n",
    "    grid_result = grid_search.fit(X_train, y_train)\n",
    "    return  grid_result.best_estimator_\n",
    "\n",
    "\n",
    "\n",
    "\"\"\"\n",
    "def grid_RandomForest(X_train, y_train):\n",
    "  model = RandomForestClassifier(random_state=666)\n",
    "  n_estimators =  [100, 300, 500, 800]\n",
    "  criterion = ['gini', 'entropy', 'log_loss']\n",
    "  max_depth  =  [None, 5, 10, 30]\n",
    "  min_samples_split =  [2, 5, 10, 15]\n",
    "  min_samples_leaf  =[1, 2, 4, 7]\n",
    "  max_features = ['sqrt', 'log2']\n",
    "\n",
    "\n",
    "  grid = dict(n_estimators = n_estimators, criterion = criterion,  \n",
    "              min_samples_split = min_samples_split,  \n",
    "              max_features=max_features,\n",
    "              max_depth = max_depth,\n",
    "              min_samples_leaf = min_samples_leaf\n",
    "              )\n",
    "  cv = RepeatedStratifiedKFold(n_splits=5, n_repeats=1, random_state=1)\n",
    "  grid_search = GridSearchCV(estimator=model, param_grid=grid, n_jobs=-1, cv=cv,\n",
    "                            scoring='f1',error_score='raise')\n",
    "  grid_result = grid_search.fit(X_train, y_train)\n",
    "  return  grid_result.best_estimator_\n",
    "\"\"\"\n",
    "\n",
    "\n",
    "\n",
    "# Support Vector Machine\n",
    "def grid_SVM(X_train, y_train, performance_metric='f1', resultsGrid=False):\n",
    "    model = SVC(random_state=666)\n",
    "    C = np.linspace(0.000001 , 100, 100)\n",
    "    kernels = ['poly', 'rbf', 'linear']\n",
    "    gamma = ['scale', 'auto']\n",
    "    grid = dict(C = C, kernel = kernels, gamma = gamma)\n",
    "    cv = RepeatedStratifiedKFold(n_splits=5, n_repeats=1, random_state=1)\n",
    "    grid_search = GridSearchCV(estimator=model, param_grid=grid, n_jobs=-1, cv=cv,\n",
    "                           scoring=performance_metric,error_score='raise')\n",
    "    grid_result = grid_search.fit(X_train, y_train)\n",
    "    if resultsGrid==True:\n",
    "        return grid_result.cv_results_\n",
    "    else:\n",
    "        return  grid_result.best_estimator_"
   ]
  },
  {
   "cell_type": "code",
   "execution_count": 7,
   "metadata": {},
   "outputs": [
    {
     "name": "stdout",
     "output_type": "stream",
     "text": [
      "              precision    recall  f1-score   support\n",
      "\n",
      "         0.0       1.00      0.48      0.65      3296\n",
      "         1.0       0.04      0.97      0.07        64\n",
      "\n",
      "    accuracy                           0.49      3360\n",
      "   macro avg       0.52      0.73      0.36      3360\n",
      "weighted avg       0.98      0.49      0.64      3360\n",
      "\n"
     ]
    }
   ],
   "source": [
    "model_lr = grid_lr(X_train, y_train)\n",
    "lr_predict = model_lr.predict(X_test)\n",
    "print(classification_report(y_test, lr_predict))\n",
    "lr_table  = pd.DataFrame(classification_report(y_test, lr_predict, output_dict=True)).iloc[:,0:2]\n"
   ]
  },
  {
   "cell_type": "code",
   "execution_count": 8,
   "metadata": {},
   "outputs": [
    {
     "data": {
      "text/plain": [
       "'\\nmodel_random_forest  = grid_RandomForest(X_train, y_train)\\nrandom_forest_predict = model_random_forest.predict(X_test)\\nprint(classification_report(y_test, random_forest_predict))\\nrandom_forest_table  = pd.DataFrame(classification_report(y_test,  random_forest_predict, output_dict=True)).iloc[:,0:2]\\n'"
      ]
     },
     "execution_count": 8,
     "metadata": {},
     "output_type": "execute_result"
    }
   ],
   "source": [
    "\"\"\"\n",
    "model_random_forest  = grid_RandomForest(X_train, y_train)\n",
    "random_forest_predict = model_random_forest.predict(X_test)\n",
    "print(classification_report(y_test, random_forest_predict))\n",
    "random_forest_table  = pd.DataFrame(classification_report(y_test,  random_forest_predict, output_dict=True)).iloc[:,0:2]\n",
    "\"\"\""
   ]
  },
  {
   "cell_type": "code",
   "execution_count": 9,
   "metadata": {},
   "outputs": [
    {
     "name": "stdout",
     "output_type": "stream",
     "text": [
      "              precision    recall  f1-score   support\n",
      "\n",
      "         0.0       1.00      0.47      0.64      3296\n",
      "         1.0       0.03      0.95      0.07        64\n",
      "\n",
      "    accuracy                           0.48      3360\n",
      "   macro avg       0.52      0.71      0.35      3360\n",
      "weighted avg       0.98      0.48      0.63      3360\n",
      "\n"
     ]
    }
   ],
   "source": [
    "model_SVM  = grid_SVM(X_train, y_train)\n",
    "SVM_predict = model_SVM.predict(X_test)\n",
    "print(classification_report(y_test, SVM_predict))\n",
    "SVM_table  = pd.DataFrame(classification_report(y_test,  SVM_predict, output_dict=True)).iloc[:,0:2]\n"
   ]
  },
  {
   "cell_type": "code",
   "execution_count": 10,
   "metadata": {},
   "outputs": [],
   "source": [
    "from sklearn.neural_network import MLPClassifier\n",
    "\n",
    "def grid_MLP(X_train, y_train):\n",
    "  model = MLPClassifier(random_state=123)\n",
    "  hidden_layer_sizes =  [(5, 5)]\n",
    "  activation = ['logistic']\n",
    "  solver =  ['sgd'] \n",
    "  learning_rate = ['constant', 'invscaling', 'adaptive']\n",
    "  alpha   =  [0.00001, 0.0001, 0.001, 0.01, 1]\n",
    "  learning_rate_init = [0.00001, 0.0001, 0.001, 0.01, 1]\n",
    "  batch_size = [X_train.shape[0]]\n",
    "  momentum = [0.5, 0.8,  0.9 , 1]\n",
    "  max_iter = [500, 700, 1000, 1500, 2000]\n",
    "  grid = dict(hidden_layer_sizes = hidden_layer_sizes,\n",
    "              solver = solver,\n",
    "              alpha = alpha,\n",
    "              max_iter = max_iter,\n",
    "              activation = activation,\n",
    "              batch_size = batch_size,\n",
    "              learning_rate_init = learning_rate_init,\n",
    "              momentum = momentum,\n",
    "              learning_rate = learning_rate)\n",
    "  cv = RepeatedStratifiedKFold(n_splits=5, n_repeats=1, random_state=1)\n",
    "  grid_search = GridSearchCV(estimator=model, param_grid=grid, n_jobs=-1, cv=cv,\n",
    "                            scoring='f1',error_score='raise')\n",
    "  grid_result = grid_search.fit(X_train, y_train)\n",
    "  return  grid_result.best_estimator_"
   ]
  },
  {
   "cell_type": "code",
   "execution_count": 11,
   "metadata": {},
   "outputs": [
    {
     "name": "stdout",
     "output_type": "stream",
     "text": [
      "              precision    recall  f1-score   support\n",
      "\n",
      "         0.0       1.00      0.43      0.60      3296\n",
      "         1.0       0.03      0.98      0.06        64\n",
      "\n",
      "    accuracy                           0.44      3360\n",
      "   macro avg       0.52      0.71      0.33      3360\n",
      "weighted avg       0.98      0.44      0.59      3360\n",
      "\n"
     ]
    }
   ],
   "source": [
    "model_mlp  = grid_MLP(X_train, y_train)\n",
    "NN_predict = model_mlp.predict(X_test)\n",
    "print(classification_report(y_test, NN_predict))\n",
    "MLP_table  = pd.DataFrame(classification_report(y_test,  NN_predict, output_dict=True)).iloc[:,0:2]"
   ]
  },
  {
   "cell_type": "code",
   "execution_count": 12,
   "metadata": {},
   "outputs": [
    {
     "data": {
      "text/html": [
       "<style type=\"text/css\">\n",
       "#T_0c83a th {\n",
       "  text-align: center;\n",
       "}\n",
       "</style>\n",
       "<table id=\"T_0c83a\">\n",
       "  <thead>\n",
       "    <tr>\n",
       "      <th class=\"blank level0\" >&nbsp;</th>\n",
       "      <th id=\"T_0c83a_level0_col0\" class=\"col_heading level0 col0\" colspan=\"2\">Logistic regression</th>\n",
       "      <th id=\"T_0c83a_level0_col2\" class=\"col_heading level0 col2\" colspan=\"2\">Support vector machine</th>\n",
       "      <th id=\"T_0c83a_level0_col4\" class=\"col_heading level0 col4\" colspan=\"2\">Backpropagation NN</th>\n",
       "    </tr>\n",
       "    <tr>\n",
       "      <th class=\"blank level1\" >&nbsp;</th>\n",
       "      <th id=\"T_0c83a_level1_col0\" class=\"col_heading level1 col0\" >No-Default</th>\n",
       "      <th id=\"T_0c83a_level1_col1\" class=\"col_heading level1 col1\" >Deafult</th>\n",
       "      <th id=\"T_0c83a_level1_col2\" class=\"col_heading level1 col2\" >No-Default</th>\n",
       "      <th id=\"T_0c83a_level1_col3\" class=\"col_heading level1 col3\" >Default</th>\n",
       "      <th id=\"T_0c83a_level1_col4\" class=\"col_heading level1 col4\" >No-default</th>\n",
       "      <th id=\"T_0c83a_level1_col5\" class=\"col_heading level1 col5\" >Default</th>\n",
       "    </tr>\n",
       "  </thead>\n",
       "  <tbody>\n",
       "    <tr>\n",
       "      <th id=\"T_0c83a_level0_row0\" class=\"row_heading level0 row0\" >precision</th>\n",
       "      <td id=\"T_0c83a_row0_col0\" class=\"data row0 col0\" >1.00</td>\n",
       "      <td id=\"T_0c83a_row0_col1\" class=\"data row0 col1\" >0.04</td>\n",
       "      <td id=\"T_0c83a_row0_col2\" class=\"data row0 col2\" >1.00</td>\n",
       "      <td id=\"T_0c83a_row0_col3\" class=\"data row0 col3\" >0.03</td>\n",
       "      <td id=\"T_0c83a_row0_col4\" class=\"data row0 col4\" >1.00</td>\n",
       "      <td id=\"T_0c83a_row0_col5\" class=\"data row0 col5\" >0.03</td>\n",
       "    </tr>\n",
       "    <tr>\n",
       "      <th id=\"T_0c83a_level0_row1\" class=\"row_heading level0 row1\" >recall</th>\n",
       "      <td id=\"T_0c83a_row1_col0\" class=\"data row1 col0\" >0.48</td>\n",
       "      <td id=\"T_0c83a_row1_col1\" class=\"data row1 col1\" >0.97</td>\n",
       "      <td id=\"T_0c83a_row1_col2\" class=\"data row1 col2\" >0.47</td>\n",
       "      <td id=\"T_0c83a_row1_col3\" class=\"data row1 col3\" >0.95</td>\n",
       "      <td id=\"T_0c83a_row1_col4\" class=\"data row1 col4\" >0.43</td>\n",
       "      <td id=\"T_0c83a_row1_col5\" class=\"data row1 col5\" >0.98</td>\n",
       "    </tr>\n",
       "    <tr>\n",
       "      <th id=\"T_0c83a_level0_row2\" class=\"row_heading level0 row2\" >f1-score</th>\n",
       "      <td id=\"T_0c83a_row2_col0\" class=\"data row2 col0\" >0.65</td>\n",
       "      <td id=\"T_0c83a_row2_col1\" class=\"data row2 col1\" >0.07</td>\n",
       "      <td id=\"T_0c83a_row2_col2\" class=\"data row2 col2\" >0.64</td>\n",
       "      <td id=\"T_0c83a_row2_col3\" class=\"data row2 col3\" >0.07</td>\n",
       "      <td id=\"T_0c83a_row2_col4\" class=\"data row2 col4\" >0.60</td>\n",
       "      <td id=\"T_0c83a_row2_col5\" class=\"data row2 col5\" >0.06</td>\n",
       "    </tr>\n",
       "    <tr>\n",
       "      <th id=\"T_0c83a_level0_row3\" class=\"row_heading level0 row3\" >support</th>\n",
       "      <td id=\"T_0c83a_row3_col0\" class=\"data row3 col0\" >3296.00</td>\n",
       "      <td id=\"T_0c83a_row3_col1\" class=\"data row3 col1\" >64.00</td>\n",
       "      <td id=\"T_0c83a_row3_col2\" class=\"data row3 col2\" >3296.00</td>\n",
       "      <td id=\"T_0c83a_row3_col3\" class=\"data row3 col3\" >64.00</td>\n",
       "      <td id=\"T_0c83a_row3_col4\" class=\"data row3 col4\" >3296.00</td>\n",
       "      <td id=\"T_0c83a_row3_col5\" class=\"data row3 col5\" >64.00</td>\n",
       "    </tr>\n",
       "  </tbody>\n",
       "</table>\n"
      ],
      "text/plain": [
       "<pandas.io.formats.style.Styler at 0x1f70b730e10>"
      ]
     },
     "execution_count": 12,
     "metadata": {},
     "output_type": "execute_result"
    }
   ],
   "source": [
    "models_tab = pd.concat([lr_table, SVM_table, MLP_table], axis=1)\n",
    "cols_names =  pd.MultiIndex.from_tuples([('Logistic regression','No-Default'),(\"Logistic regression\",'Deafult'),\n",
    "              (\"Support vector machine\",'No-Default'),('Support vector machine','Default'),\n",
    "              ('Backpropagation NN', 'No-default'), ('Backpropagation NN', 'Default'),])\n",
    "models_tab.columns  = cols_names\n",
    "models_tab = models_tab.style.set_table_styles([\n",
    "   {'selector': 'th','props': [('text-align', 'center')]}]).format(precision=2)\n",
    "models_tab.to_latex(\"benchmark-models.tex\")\n",
    "models_tab"
   ]
  },
  {
   "cell_type": "code",
   "execution_count": 13,
   "metadata": {},
   "outputs": [
    {
     "name": "stdout",
     "output_type": "stream",
     "text": [
      "WARNING:tensorflow:From c:\\Users\\sjrp2\\AppData\\Local\\Programs\\Python\\Python311\\Lib\\site-packages\\keras\\src\\backend.py:873: The name tf.get_default_graph is deprecated. Please use tf.compat.v1.get_default_graph instead.\n",
      "\n",
      "WARNING:tensorflow:From c:\\Users\\sjrp2\\AppData\\Local\\Programs\\Python\\Python311\\Lib\\site-packages\\keras\\src\\optimizers\\__init__.py:309: The name tf.train.Optimizer is deprecated. Please use tf.compat.v1.train.Optimizer instead.\n",
      "\n",
      "Epoch 1/2\n",
      "WARNING:tensorflow:From c:\\Users\\sjrp2\\AppData\\Local\\Programs\\Python\\Python311\\Lib\\site-packages\\keras\\src\\utils\\tf_utils.py:492: The name tf.ragged.RaggedTensorValue is deprecated. Please use tf.compat.v1.ragged.RaggedTensorValue instead.\n",
      "\n",
      "WARNING:tensorflow:From c:\\Users\\sjrp2\\AppData\\Local\\Programs\\Python\\Python311\\Lib\\site-packages\\keras\\src\\engine\\base_layer_utils.py:384: The name tf.executing_eagerly_outside_functions is deprecated. Please use tf.compat.v1.executing_eagerly_outside_functions instead.\n",
      "\n",
      "13/13 [==============================] - 1s 6ms/step - loss: 0.8269 - accuracy: 0.5000\n",
      "Epoch 2/2\n",
      "13/13 [==============================] - 0s 2ms/step - loss: 0.8083 - accuracy: 0.5000\n",
      "4/4 [==============================] - 0s 2ms/step\n",
      "Epoch 1/2\n",
      "13/13 [==============================] - 0s 2ms/step - loss: 0.7911 - accuracy: 0.5000\n",
      "Epoch 2/2\n",
      "13/13 [==============================] - 0s 2ms/step - loss: 0.7770 - accuracy: 0.5000\n"
     ]
    },
    {
     "name": "stderr",
     "output_type": "stream",
     "text": [
      "c:\\Users\\sjrp2\\AppData\\Local\\Programs\\Python\\Python311\\Lib\\site-packages\\sklearn\\metrics\\_classification.py:1509: UndefinedMetricWarning: Precision is ill-defined and being set to 0.0 due to no predicted samples. Use `zero_division` parameter to control this behavior.\n",
      "  _warn_prf(average, modifier, f\"{metric.capitalize()} is\", len(result))\n"
     ]
    },
    {
     "name": "stdout",
     "output_type": "stream",
     "text": [
      "4/4 [==============================] - 0s 2ms/step\n",
      "Epoch 1/2\n",
      "13/13 [==============================] - 0s 2ms/step - loss: 0.7648 - accuracy: 0.5000\n",
      "Epoch 2/2\n",
      "13/13 [==============================] - 0s 2ms/step - loss: 0.7541 - accuracy: 0.5000\n",
      "1/4 [======>.......................] - ETA: 0s"
     ]
    },
    {
     "name": "stderr",
     "output_type": "stream",
     "text": [
      "c:\\Users\\sjrp2\\AppData\\Local\\Programs\\Python\\Python311\\Lib\\site-packages\\sklearn\\metrics\\_classification.py:1509: UndefinedMetricWarning: Precision is ill-defined and being set to 0.0 due to no predicted samples. Use `zero_division` parameter to control this behavior.\n",
      "  _warn_prf(average, modifier, f\"{metric.capitalize()} is\", len(result))\n"
     ]
    },
    {
     "name": "stdout",
     "output_type": "stream",
     "text": [
      "4/4 [==============================] - 0s 3ms/step\n",
      "Epoch 1/2\n",
      "13/13 [==============================] - 0s 2ms/step - loss: 0.7458 - accuracy: 0.4988\n",
      "Epoch 2/2\n",
      "13/13 [==============================] - 0s 2ms/step - loss: 0.7382 - accuracy: 0.4988\n"
     ]
    },
    {
     "name": "stderr",
     "output_type": "stream",
     "text": [
      "c:\\Users\\sjrp2\\AppData\\Local\\Programs\\Python\\Python311\\Lib\\site-packages\\sklearn\\metrics\\_classification.py:1509: UndefinedMetricWarning: Precision is ill-defined and being set to 0.0 due to no predicted samples. Use `zero_division` parameter to control this behavior.\n",
      "  _warn_prf(average, modifier, f\"{metric.capitalize()} is\", len(result))\n"
     ]
    },
    {
     "name": "stdout",
     "output_type": "stream",
     "text": [
      "4/4 [==============================] - 0s 2ms/step\n",
      "Epoch 1/2\n",
      "13/13 [==============================] - 0s 2ms/step - loss: 0.7298 - accuracy: 0.5012\n",
      "Epoch 2/2\n",
      "13/13 [==============================] - 0s 2ms/step - loss: 0.7244 - accuracy: 0.5012\n",
      "1/4 [======>.......................] - ETA: 0s"
     ]
    },
    {
     "name": "stderr",
     "output_type": "stream",
     "text": [
      "c:\\Users\\sjrp2\\AppData\\Local\\Programs\\Python\\Python311\\Lib\\site-packages\\sklearn\\metrics\\_classification.py:1509: UndefinedMetricWarning: Precision is ill-defined and being set to 0.0 due to no predicted samples. Use `zero_division` parameter to control this behavior.\n",
      "  _warn_prf(average, modifier, f\"{metric.capitalize()} is\", len(result))\n"
     ]
    },
    {
     "name": "stdout",
     "output_type": "stream",
     "text": [
      "4/4 [==============================] - 0s 2ms/step\n",
      "Epoch 1/5\n",
      "13/13 [==============================] - 0s 3ms/step - loss: 0.7202 - accuracy: 0.5000\n",
      "Epoch 2/5\n",
      "13/13 [==============================] - 0s 2ms/step - loss: 0.7161 - accuracy: 0.5000\n",
      "Epoch 3/5\n",
      "13/13 [==============================] - 0s 2ms/step - loss: 0.7124 - accuracy: 0.5000\n"
     ]
    },
    {
     "name": "stderr",
     "output_type": "stream",
     "text": [
      "c:\\Users\\sjrp2\\AppData\\Local\\Programs\\Python\\Python311\\Lib\\site-packages\\sklearn\\metrics\\_classification.py:1509: UndefinedMetricWarning: Precision is ill-defined and being set to 0.0 due to no predicted samples. Use `zero_division` parameter to control this behavior.\n",
      "  _warn_prf(average, modifier, f\"{metric.capitalize()} is\", len(result))\n"
     ]
    },
    {
     "name": "stdout",
     "output_type": "stream",
     "text": [
      "Epoch 4/5\n",
      "13/13 [==============================] - 0s 3ms/step - loss: 0.7095 - accuracy: 0.5000\n",
      "Epoch 5/5\n",
      "13/13 [==============================] - 0s 2ms/step - loss: 0.7067 - accuracy: 0.5000\n",
      "4/4 [==============================] - 0s 3ms/step\n",
      "Epoch 1/5\n",
      "13/13 [==============================] - 0s 2ms/step - loss: 0.7045 - accuracy: 0.5000\n",
      "Epoch 2/5\n",
      "13/13 [==============================] - 0s 3ms/step - loss: 0.7026 - accuracy: 0.5000\n",
      "Epoch 3/5\n",
      "13/13 [==============================] - 0s 4ms/step - loss: 0.7011 - accuracy: 0.5000\n"
     ]
    },
    {
     "name": "stderr",
     "output_type": "stream",
     "text": [
      "c:\\Users\\sjrp2\\AppData\\Local\\Programs\\Python\\Python311\\Lib\\site-packages\\sklearn\\metrics\\_classification.py:1509: UndefinedMetricWarning: Precision is ill-defined and being set to 0.0 due to no predicted samples. Use `zero_division` parameter to control this behavior.\n",
      "  _warn_prf(average, modifier, f\"{metric.capitalize()} is\", len(result))\n"
     ]
    },
    {
     "name": "stdout",
     "output_type": "stream",
     "text": [
      "Epoch 4/5\n",
      "13/13 [==============================] - 0s 4ms/step - loss: 0.6998 - accuracy: 0.5000\n",
      "Epoch 5/5\n",
      "13/13 [==============================] - 0s 2ms/step - loss: 0.6986 - accuracy: 0.5000\n",
      "4/4 [==============================] - 0s 2ms/step\n",
      "Epoch 1/5\n",
      "13/13 [==============================] - 0s 2ms/step - loss: 0.6978 - accuracy: 0.5000\n",
      "Epoch 2/5\n",
      "13/13 [==============================] - 0s 2ms/step - loss: 0.6970 - accuracy: 0.5000\n",
      "Epoch 3/5\n",
      "13/13 [==============================] - 0s 2ms/step - loss: 0.6963 - accuracy: 0.5000\n"
     ]
    },
    {
     "name": "stderr",
     "output_type": "stream",
     "text": [
      "c:\\Users\\sjrp2\\AppData\\Local\\Programs\\Python\\Python311\\Lib\\site-packages\\sklearn\\metrics\\_classification.py:1509: UndefinedMetricWarning: Precision is ill-defined and being set to 0.0 due to no predicted samples. Use `zero_division` parameter to control this behavior.\n",
      "  _warn_prf(average, modifier, f\"{metric.capitalize()} is\", len(result))\n"
     ]
    },
    {
     "name": "stdout",
     "output_type": "stream",
     "text": [
      "Epoch 4/5\n",
      "13/13 [==============================] - 0s 2ms/step - loss: 0.6957 - accuracy: 0.5000\n",
      "Epoch 5/5\n",
      "13/13 [==============================] - 0s 2ms/step - loss: 0.6952 - accuracy: 0.5000\n",
      "4/4 [==============================] - 0s 2ms/step\n",
      "Epoch 1/5\n",
      "13/13 [==============================] - 0s 2ms/step - loss: 0.6949 - accuracy: 0.5012\n",
      "Epoch 2/5\n",
      "13/13 [==============================] - 0s 2ms/step - loss: 0.6945 - accuracy: 0.5037\n",
      "Epoch 3/5\n",
      "13/13 [==============================] - 0s 2ms/step - loss: 0.6942 - accuracy: 0.5037\n",
      "Epoch 4/5\n",
      "13/13 [==============================] - 0s 6ms/step - loss: 0.6940 - accuracy: 0.5037\n",
      "Epoch 5/5\n",
      "13/13 [==============================] - 0s 6ms/step - loss: 0.6936 - accuracy: 0.5037\n",
      "4/4 [==============================] - 0s 1ms/step\n",
      "Epoch 1/5\n",
      "13/13 [==============================] - 0s 2ms/step - loss: 0.6932 - accuracy: 0.5061\n",
      "Epoch 2/5\n",
      " 1/13 [=>............................] - ETA: 0s - loss: 0.7063 - accuracy: 0.3438"
     ]
    },
    {
     "name": "stderr",
     "output_type": "stream",
     "text": [
      "c:\\Users\\sjrp2\\AppData\\Local\\Programs\\Python\\Python311\\Lib\\site-packages\\sklearn\\metrics\\_classification.py:1509: UndefinedMetricWarning: Precision is ill-defined and being set to 0.0 due to no predicted samples. Use `zero_division` parameter to control this behavior.\n",
      "  _warn_prf(average, modifier, f\"{metric.capitalize()} is\", len(result))\n"
     ]
    },
    {
     "name": "stdout",
     "output_type": "stream",
     "text": [
      "13/13 [==============================] - 0s 2ms/step - loss: 0.6931 - accuracy: 0.5086\n",
      "Epoch 3/5\n",
      "13/13 [==============================] - 0s 3ms/step - loss: 0.6929 - accuracy: 0.5086\n",
      "Epoch 4/5\n",
      "13/13 [==============================] - 0s 3ms/step - loss: 0.6928 - accuracy: 0.5086\n",
      "Epoch 5/5\n",
      "13/13 [==============================] - 0s 2ms/step - loss: 0.6927 - accuracy: 0.5086\n",
      "4/4 [==============================] - 0s 2ms/step\n",
      "Epoch 1/5\n",
      "16/16 [==============================] - 0s 2ms/step - loss: 0.7044 - accuracy: 0.5000\n",
      "Epoch 2/5\n",
      "16/16 [==============================] - 0s 2ms/step - loss: 0.7025 - accuracy: 0.5000\n",
      "Epoch 3/5\n",
      "16/16 [==============================] - 0s 2ms/step - loss: 0.7009 - accuracy: 0.5000\n",
      "Epoch 4/5\n",
      "16/16 [==============================] - 0s 2ms/step - loss: 0.6995 - accuracy: 0.5000\n",
      "Epoch 5/5\n",
      "16/16 [==============================] - 0s 2ms/step - loss: 0.6984 - accuracy: 0.5000\n",
      "105/105 [==============================] - 0s 1ms/step\n"
     ]
    }
   ],
   "source": [
    "####################################\n",
    "# Epochs determination in NN...\n",
    "\n",
    "from LocalSearch import ModelArchitecture\n",
    "from tensorflow.keras import Sequential\n",
    "from Experiment import mean_results_NN\n",
    "\n",
    "\n",
    "architecture = (5,5,1)\n",
    "\n",
    "\n",
    "errors_mean  = []\n",
    "model = Sequential()\n",
    "model  = ModelArchitecture(model, architecture, X_train)\n",
    "model.compile(optimizer=\"SGD\",\n",
    "              loss='binary_crossentropy',\n",
    "              metrics=['accuracy'])\n",
    "EPOCHS  = [2, 5]\n",
    "for epoch in EPOCHS:\n",
    "  results = eval_model_NN(classifier  = model,\n",
    "              X_train_ =  X_train,\n",
    "              y_train_  = y_train,\n",
    "              epochs =epoch,\n",
    "              k_folds= 5)\n",
    "  errors_mean.append(mean_results_NN(results, 'f1'))\n",
    "  Optimun_epochs  = EPOCHS[np.array(errors_mean).argmax()]\n",
    "\n",
    "\n",
    "model = Sequential()\n",
    "model  = ModelArchitecture(model, architecture, X_train)\n",
    "model.compile(optimizer=\"SGD\",\n",
    "              loss='binary_crossentropy',\n",
    "              metrics=['accuracy'])\n",
    "model.fit(X_train, y_train, epochs=Optimun_epochs, verbose=1)\n",
    "preds_backproptf = np.where(model.predict(X_test)>0.5,1,0)"
   ]
  },
  {
   "cell_type": "code",
   "execution_count": 14,
   "metadata": {},
   "outputs": [
    {
     "data": {
      "text/html": [
       "<div>\n",
       "<style scoped>\n",
       "    .dataframe tbody tr th:only-of-type {\n",
       "        vertical-align: middle;\n",
       "    }\n",
       "\n",
       "    .dataframe tbody tr th {\n",
       "        vertical-align: top;\n",
       "    }\n",
       "\n",
       "    .dataframe thead th {\n",
       "        text-align: right;\n",
       "    }\n",
       "</style>\n",
       "<table border=\"1\" class=\"dataframe\">\n",
       "  <thead>\n",
       "    <tr style=\"text-align: right;\">\n",
       "      <th></th>\n",
       "      <th>ROE</th>\n",
       "      <th>ROA</th>\n",
       "      <th>IR</th>\n",
       "      <th>RSL</th>\n",
       "      <th>Sector_D</th>\n",
       "      <th>Sector_E</th>\n",
       "      <th>Sector_G</th>\n",
       "      <th>Sector_J</th>\n",
       "      <th>Sector_K</th>\n",
       "      <th>Sector_L</th>\n",
       "      <th>Sector_M</th>\n",
       "      <th>Sector_O</th>\n",
       "      <th>Sector_Q</th>\n",
       "      <th>Sector_R</th>\n",
       "    </tr>\n",
       "  </thead>\n",
       "  <tbody>\n",
       "    <tr>\n",
       "      <th>count</th>\n",
       "      <td>508.000000</td>\n",
       "      <td>5.080000e+02</td>\n",
       "      <td>5.080000e+02</td>\n",
       "      <td>5.080000e+02</td>\n",
       "      <td>508.0</td>\n",
       "      <td>508.000000</td>\n",
       "      <td>508.000000</td>\n",
       "      <td>508.000000</td>\n",
       "      <td>508.000000</td>\n",
       "      <td>508.000000</td>\n",
       "      <td>508.000000</td>\n",
       "      <td>508.0</td>\n",
       "      <td>508.000000</td>\n",
       "      <td>508.000000</td>\n",
       "    </tr>\n",
       "    <tr>\n",
       "      <th>mean</th>\n",
       "      <td>0.000000</td>\n",
       "      <td>2.797412e-17</td>\n",
       "      <td>1.398706e-16</td>\n",
       "      <td>1.678447e-16</td>\n",
       "      <td>0.0</td>\n",
       "      <td>0.001969</td>\n",
       "      <td>0.297244</td>\n",
       "      <td>0.031496</td>\n",
       "      <td>0.019685</td>\n",
       "      <td>0.055118</td>\n",
       "      <td>0.053150</td>\n",
       "      <td>0.0</td>\n",
       "      <td>0.003937</td>\n",
       "      <td>0.007874</td>\n",
       "    </tr>\n",
       "    <tr>\n",
       "      <th>std</th>\n",
       "      <td>1.000000</td>\n",
       "      <td>1.000000e+00</td>\n",
       "      <td>1.000000e+00</td>\n",
       "      <td>1.000000e+00</td>\n",
       "      <td>0.0</td>\n",
       "      <td>0.044368</td>\n",
       "      <td>0.457495</td>\n",
       "      <td>0.174826</td>\n",
       "      <td>0.139053</td>\n",
       "      <td>0.228436</td>\n",
       "      <td>0.224553</td>\n",
       "      <td>0.0</td>\n",
       "      <td>0.062684</td>\n",
       "      <td>0.088473</td>\n",
       "    </tr>\n",
       "    <tr>\n",
       "      <th>min</th>\n",
       "      <td>-20.432386</td>\n",
       "      <td>-1.442665e+01</td>\n",
       "      <td>-9.037867e-01</td>\n",
       "      <td>-1.877211e+00</td>\n",
       "      <td>0.0</td>\n",
       "      <td>0.000000</td>\n",
       "      <td>0.000000</td>\n",
       "      <td>0.000000</td>\n",
       "      <td>0.000000</td>\n",
       "      <td>0.000000</td>\n",
       "      <td>0.000000</td>\n",
       "      <td>0.0</td>\n",
       "      <td>0.000000</td>\n",
       "      <td>0.000000</td>\n",
       "    </tr>\n",
       "    <tr>\n",
       "      <th>25%</th>\n",
       "      <td>0.031782</td>\n",
       "      <td>1.892854e-02</td>\n",
       "      <td>-3.347233e-01</td>\n",
       "      <td>-9.058330e-01</td>\n",
       "      <td>0.0</td>\n",
       "      <td>0.000000</td>\n",
       "      <td>0.000000</td>\n",
       "      <td>0.000000</td>\n",
       "      <td>0.000000</td>\n",
       "      <td>0.000000</td>\n",
       "      <td>0.000000</td>\n",
       "      <td>0.0</td>\n",
       "      <td>0.000000</td>\n",
       "      <td>0.000000</td>\n",
       "    </tr>\n",
       "    <tr>\n",
       "      <th>50%</th>\n",
       "      <td>0.053442</td>\n",
       "      <td>1.455670e-01</td>\n",
       "      <td>-7.805332e-02</td>\n",
       "      <td>1.117814e-01</td>\n",
       "      <td>0.0</td>\n",
       "      <td>0.000000</td>\n",
       "      <td>0.000000</td>\n",
       "      <td>0.000000</td>\n",
       "      <td>0.000000</td>\n",
       "      <td>0.000000</td>\n",
       "      <td>0.000000</td>\n",
       "      <td>0.0</td>\n",
       "      <td>0.000000</td>\n",
       "      <td>0.000000</td>\n",
       "    </tr>\n",
       "    <tr>\n",
       "      <th>75%</th>\n",
       "      <td>0.090878</td>\n",
       "      <td>2.686279e-01</td>\n",
       "      <td>1.400104e-01</td>\n",
       "      <td>1.032800e+00</td>\n",
       "      <td>0.0</td>\n",
       "      <td>0.000000</td>\n",
       "      <td>1.000000</td>\n",
       "      <td>0.000000</td>\n",
       "      <td>0.000000</td>\n",
       "      <td>0.000000</td>\n",
       "      <td>0.000000</td>\n",
       "      <td>0.0</td>\n",
       "      <td>0.000000</td>\n",
       "      <td>0.000000</td>\n",
       "    </tr>\n",
       "    <tr>\n",
       "      <th>max</th>\n",
       "      <td>3.526417</td>\n",
       "      <td>1.761250e+00</td>\n",
       "      <td>1.766741e+01</td>\n",
       "      <td>1.169591e+00</td>\n",
       "      <td>0.0</td>\n",
       "      <td>1.000000</td>\n",
       "      <td>1.000000</td>\n",
       "      <td>1.000000</td>\n",
       "      <td>1.000000</td>\n",
       "      <td>1.000000</td>\n",
       "      <td>1.000000</td>\n",
       "      <td>0.0</td>\n",
       "      <td>1.000000</td>\n",
       "      <td>1.000000</td>\n",
       "    </tr>\n",
       "  </tbody>\n",
       "</table>\n",
       "</div>"
      ],
      "text/plain": [
       "              ROE           ROA            IR           RSL  Sector_D  \\\n",
       "count  508.000000  5.080000e+02  5.080000e+02  5.080000e+02     508.0   \n",
       "mean     0.000000  2.797412e-17  1.398706e-16  1.678447e-16       0.0   \n",
       "std      1.000000  1.000000e+00  1.000000e+00  1.000000e+00       0.0   \n",
       "min    -20.432386 -1.442665e+01 -9.037867e-01 -1.877211e+00       0.0   \n",
       "25%      0.031782  1.892854e-02 -3.347233e-01 -9.058330e-01       0.0   \n",
       "50%      0.053442  1.455670e-01 -7.805332e-02  1.117814e-01       0.0   \n",
       "75%      0.090878  2.686279e-01  1.400104e-01  1.032800e+00       0.0   \n",
       "max      3.526417  1.761250e+00  1.766741e+01  1.169591e+00       0.0   \n",
       "\n",
       "         Sector_E    Sector_G    Sector_J    Sector_K    Sector_L    Sector_M  \\\n",
       "count  508.000000  508.000000  508.000000  508.000000  508.000000  508.000000   \n",
       "mean     0.001969    0.297244    0.031496    0.019685    0.055118    0.053150   \n",
       "std      0.044368    0.457495    0.174826    0.139053    0.228436    0.224553   \n",
       "min      0.000000    0.000000    0.000000    0.000000    0.000000    0.000000   \n",
       "25%      0.000000    0.000000    0.000000    0.000000    0.000000    0.000000   \n",
       "50%      0.000000    0.000000    0.000000    0.000000    0.000000    0.000000   \n",
       "75%      0.000000    1.000000    0.000000    0.000000    0.000000    0.000000   \n",
       "max      1.000000    1.000000    1.000000    1.000000    1.000000    1.000000   \n",
       "\n",
       "       Sector_O    Sector_Q    Sector_R  \n",
       "count     508.0  508.000000  508.000000  \n",
       "mean        0.0    0.003937    0.007874  \n",
       "std         0.0    0.062684    0.088473  \n",
       "min         0.0    0.000000    0.000000  \n",
       "25%         0.0    0.000000    0.000000  \n",
       "50%         0.0    0.000000    0.000000  \n",
       "75%         0.0    0.000000    0.000000  \n",
       "max         0.0    1.000000    1.000000  "
      ]
     },
     "execution_count": 14,
     "metadata": {},
     "output_type": "execute_result"
    }
   ],
   "source": [
    "X_train.describe()"
   ]
  },
  {
   "cell_type": "code",
   "execution_count": 15,
   "metadata": {},
   "outputs": [
    {
     "data": {
      "text/plain": [
       "Index([11250, 14336,  9571,  3175,  8136,  3385,   822, 12247,  3985, 13209,\n",
       "       ...\n",
       "        4788,  4985,  2971,  6943,  9109,  1157,  3242,  9792,  9255,   987],\n",
       "      dtype='int64', length=508)"
      ]
     },
     "execution_count": 15,
     "metadata": {},
     "output_type": "execute_result"
    }
   ],
   "source": [
    "X_train.index"
   ]
  },
  {
   "cell_type": "code",
   "execution_count": 16,
   "metadata": {},
   "outputs": [
    {
     "data": {
      "text/plain": [
       "Index([19146,  3820, 10870, 17643, 18621,  9242, 13245, 20033,   952,  4099,\n",
       "       ...\n",
       "        1161, 19710,  9821, 15427,  8818, 10170,  8837,  3652, 19586, 13580],\n",
       "      dtype='int64', length=3360)"
      ]
     },
     "execution_count": 16,
     "metadata": {},
     "output_type": "execute_result"
    }
   ],
   "source": [
    "y_test.index"
   ]
  }
 ],
 "metadata": {
  "kernelspec": {
   "display_name": "Python 3",
   "language": "python",
   "name": "python3"
  },
  "language_info": {
   "codemirror_mode": {
    "name": "ipython",
    "version": 3
   },
   "file_extension": ".py",
   "mimetype": "text/x-python",
   "name": "python",
   "nbconvert_exporter": "python",
   "pygments_lexer": "ipython3",
   "version": "3.11.2"
  }
 },
 "nbformat": 4,
 "nbformat_minor": 2
}
